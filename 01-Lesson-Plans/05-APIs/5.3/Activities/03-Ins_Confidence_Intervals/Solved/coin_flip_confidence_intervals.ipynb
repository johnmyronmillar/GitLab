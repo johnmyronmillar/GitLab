{
 "cells": [
  {
   "cell_type": "markdown",
   "metadata": {},
   "source": [
    "### Instructor Demo: Coin Flip Simulation\n",
    "\n",
    "This program executes `n` number of simulations of flipping a coin 10 times. Results are then saved to a DataFrame to calculate the frequency distribution and corresponding probability distribution of the coin landing on heads."
   ]
  },
  {
   "cell_type": "code",
   "execution_count": 1,
   "metadata": {},
   "outputs": [],
   "source": [
    "# Import libraries and dependencies\n",
    "from numpy import random\n",
    "import pandas as pd\n",
    "\n",
    "%matplotlib inline"
   ]
  },
  {
   "cell_type": "code",
   "execution_count": 2,
   "metadata": {},
   "outputs": [],
   "source": [
    "# Set the random seed\n",
    "random.seed(3)"
   ]
  },
  {
   "cell_type": "markdown",
   "metadata": {},
   "source": [
    "### Perform the Monte Carlo Simulation and Create Pandas DataFrame From Results"
   ]
  },
  {
   "cell_type": "code",
   "execution_count": 3,
   "metadata": {},
   "outputs": [
    {
     "data": {
      "text/html": [
       "<div>\n",
       "<style scoped>\n",
       "    .dataframe tbody tr th:only-of-type {\n",
       "        vertical-align: middle;\n",
       "    }\n",
       "\n",
       "    .dataframe tbody tr th {\n",
       "        vertical-align: top;\n",
       "    }\n",
       "\n",
       "    .dataframe thead th {\n",
       "        text-align: right;\n",
       "    }\n",
       "</style>\n",
       "<table border=\"1\" class=\"dataframe\">\n",
       "  <thead>\n",
       "    <tr style=\"text-align: right;\">\n",
       "      <th></th>\n",
       "      <th>Simulation 0</th>\n",
       "      <th>Simulation 1</th>\n",
       "      <th>Simulation 2</th>\n",
       "      <th>Simulation 3</th>\n",
       "      <th>Simulation 4</th>\n",
       "      <th>Simulation 5</th>\n",
       "      <th>Simulation 6</th>\n",
       "      <th>Simulation 7</th>\n",
       "      <th>Simulation 8</th>\n",
       "      <th>Simulation 9</th>\n",
       "      <th>...</th>\n",
       "      <th>Simulation 990</th>\n",
       "      <th>Simulation 991</th>\n",
       "      <th>Simulation 992</th>\n",
       "      <th>Simulation 993</th>\n",
       "      <th>Simulation 994</th>\n",
       "      <th>Simulation 995</th>\n",
       "      <th>Simulation 996</th>\n",
       "      <th>Simulation 997</th>\n",
       "      <th>Simulation 998</th>\n",
       "      <th>Simulation 999</th>\n",
       "    </tr>\n",
       "  </thead>\n",
       "  <tbody>\n",
       "    <tr>\n",
       "      <th>0</th>\n",
       "      <td>tails</td>\n",
       "      <td>heads</td>\n",
       "      <td>heads</td>\n",
       "      <td>tails</td>\n",
       "      <td>heads</td>\n",
       "      <td>heads</td>\n",
       "      <td>heads</td>\n",
       "      <td>tails</td>\n",
       "      <td>heads</td>\n",
       "      <td>tails</td>\n",
       "      <td>...</td>\n",
       "      <td>tails</td>\n",
       "      <td>heads</td>\n",
       "      <td>heads</td>\n",
       "      <td>heads</td>\n",
       "      <td>tails</td>\n",
       "      <td>tails</td>\n",
       "      <td>tails</td>\n",
       "      <td>heads</td>\n",
       "      <td>tails</td>\n",
       "      <td>heads</td>\n",
       "    </tr>\n",
       "    <tr>\n",
       "      <th>1</th>\n",
       "      <td>tails</td>\n",
       "      <td>heads</td>\n",
       "      <td>tails</td>\n",
       "      <td>tails</td>\n",
       "      <td>heads</td>\n",
       "      <td>heads</td>\n",
       "      <td>tails</td>\n",
       "      <td>tails</td>\n",
       "      <td>tails</td>\n",
       "      <td>heads</td>\n",
       "      <td>...</td>\n",
       "      <td>heads</td>\n",
       "      <td>tails</td>\n",
       "      <td>heads</td>\n",
       "      <td>tails</td>\n",
       "      <td>heads</td>\n",
       "      <td>tails</td>\n",
       "      <td>heads</td>\n",
       "      <td>heads</td>\n",
       "      <td>heads</td>\n",
       "      <td>tails</td>\n",
       "    </tr>\n",
       "    <tr>\n",
       "      <th>2</th>\n",
       "      <td>heads</td>\n",
       "      <td>tails</td>\n",
       "      <td>heads</td>\n",
       "      <td>tails</td>\n",
       "      <td>heads</td>\n",
       "      <td>tails</td>\n",
       "      <td>heads</td>\n",
       "      <td>tails</td>\n",
       "      <td>heads</td>\n",
       "      <td>tails</td>\n",
       "      <td>...</td>\n",
       "      <td>heads</td>\n",
       "      <td>heads</td>\n",
       "      <td>tails</td>\n",
       "      <td>heads</td>\n",
       "      <td>tails</td>\n",
       "      <td>tails</td>\n",
       "      <td>tails</td>\n",
       "      <td>tails</td>\n",
       "      <td>heads</td>\n",
       "      <td>heads</td>\n",
       "    </tr>\n",
       "    <tr>\n",
       "      <th>3</th>\n",
       "      <td>tails</td>\n",
       "      <td>heads</td>\n",
       "      <td>heads</td>\n",
       "      <td>tails</td>\n",
       "      <td>heads</td>\n",
       "      <td>heads</td>\n",
       "      <td>tails</td>\n",
       "      <td>heads</td>\n",
       "      <td>tails</td>\n",
       "      <td>tails</td>\n",
       "      <td>...</td>\n",
       "      <td>heads</td>\n",
       "      <td>tails</td>\n",
       "      <td>tails</td>\n",
       "      <td>tails</td>\n",
       "      <td>tails</td>\n",
       "      <td>tails</td>\n",
       "      <td>tails</td>\n",
       "      <td>heads</td>\n",
       "      <td>tails</td>\n",
       "      <td>tails</td>\n",
       "    </tr>\n",
       "    <tr>\n",
       "      <th>4</th>\n",
       "      <td>tails</td>\n",
       "      <td>tails</td>\n",
       "      <td>tails</td>\n",
       "      <td>heads</td>\n",
       "      <td>heads</td>\n",
       "      <td>heads</td>\n",
       "      <td>heads</td>\n",
       "      <td>tails</td>\n",
       "      <td>tails</td>\n",
       "      <td>tails</td>\n",
       "      <td>...</td>\n",
       "      <td>tails</td>\n",
       "      <td>tails</td>\n",
       "      <td>heads</td>\n",
       "      <td>tails</td>\n",
       "      <td>heads</td>\n",
       "      <td>tails</td>\n",
       "      <td>tails</td>\n",
       "      <td>tails</td>\n",
       "      <td>heads</td>\n",
       "      <td>tails</td>\n",
       "    </tr>\n",
       "    <tr>\n",
       "      <th>5</th>\n",
       "      <td>tails</td>\n",
       "      <td>tails</td>\n",
       "      <td>tails</td>\n",
       "      <td>heads</td>\n",
       "      <td>tails</td>\n",
       "      <td>heads</td>\n",
       "      <td>heads</td>\n",
       "      <td>heads</td>\n",
       "      <td>tails</td>\n",
       "      <td>tails</td>\n",
       "      <td>...</td>\n",
       "      <td>tails</td>\n",
       "      <td>heads</td>\n",
       "      <td>heads</td>\n",
       "      <td>tails</td>\n",
       "      <td>tails</td>\n",
       "      <td>heads</td>\n",
       "      <td>heads</td>\n",
       "      <td>tails</td>\n",
       "      <td>tails</td>\n",
       "      <td>heads</td>\n",
       "    </tr>\n",
       "    <tr>\n",
       "      <th>6</th>\n",
       "      <td>heads</td>\n",
       "      <td>heads</td>\n",
       "      <td>heads</td>\n",
       "      <td>tails</td>\n",
       "      <td>tails</td>\n",
       "      <td>tails</td>\n",
       "      <td>heads</td>\n",
       "      <td>heads</td>\n",
       "      <td>tails</td>\n",
       "      <td>tails</td>\n",
       "      <td>...</td>\n",
       "      <td>tails</td>\n",
       "      <td>tails</td>\n",
       "      <td>heads</td>\n",
       "      <td>tails</td>\n",
       "      <td>heads</td>\n",
       "      <td>heads</td>\n",
       "      <td>heads</td>\n",
       "      <td>tails</td>\n",
       "      <td>heads</td>\n",
       "      <td>tails</td>\n",
       "    </tr>\n",
       "    <tr>\n",
       "      <th>7</th>\n",
       "      <td>heads</td>\n",
       "      <td>tails</td>\n",
       "      <td>heads</td>\n",
       "      <td>tails</td>\n",
       "      <td>heads</td>\n",
       "      <td>tails</td>\n",
       "      <td>heads</td>\n",
       "      <td>heads</td>\n",
       "      <td>heads</td>\n",
       "      <td>heads</td>\n",
       "      <td>...</td>\n",
       "      <td>tails</td>\n",
       "      <td>heads</td>\n",
       "      <td>heads</td>\n",
       "      <td>tails</td>\n",
       "      <td>tails</td>\n",
       "      <td>heads</td>\n",
       "      <td>tails</td>\n",
       "      <td>heads</td>\n",
       "      <td>heads</td>\n",
       "      <td>heads</td>\n",
       "    </tr>\n",
       "    <tr>\n",
       "      <th>8</th>\n",
       "      <td>heads</td>\n",
       "      <td>heads</td>\n",
       "      <td>heads</td>\n",
       "      <td>heads</td>\n",
       "      <td>heads</td>\n",
       "      <td>tails</td>\n",
       "      <td>tails</td>\n",
       "      <td>heads</td>\n",
       "      <td>tails</td>\n",
       "      <td>tails</td>\n",
       "      <td>...</td>\n",
       "      <td>heads</td>\n",
       "      <td>heads</td>\n",
       "      <td>heads</td>\n",
       "      <td>heads</td>\n",
       "      <td>tails</td>\n",
       "      <td>tails</td>\n",
       "      <td>tails</td>\n",
       "      <td>heads</td>\n",
       "      <td>heads</td>\n",
       "      <td>tails</td>\n",
       "    </tr>\n",
       "    <tr>\n",
       "      <th>9</th>\n",
       "      <td>heads</td>\n",
       "      <td>heads</td>\n",
       "      <td>tails</td>\n",
       "      <td>heads</td>\n",
       "      <td>heads</td>\n",
       "      <td>tails</td>\n",
       "      <td>heads</td>\n",
       "      <td>heads</td>\n",
       "      <td>tails</td>\n",
       "      <td>heads</td>\n",
       "      <td>...</td>\n",
       "      <td>heads</td>\n",
       "      <td>tails</td>\n",
       "      <td>heads</td>\n",
       "      <td>tails</td>\n",
       "      <td>heads</td>\n",
       "      <td>tails</td>\n",
       "      <td>heads</td>\n",
       "      <td>tails</td>\n",
       "      <td>heads</td>\n",
       "      <td>tails</td>\n",
       "    </tr>\n",
       "  </tbody>\n",
       "</table>\n",
       "<p>10 rows × 1000 columns</p>\n",
       "</div>"
      ],
      "text/plain": [
       "  Simulation 0 Simulation 1 Simulation 2 Simulation 3 Simulation 4  \\\n",
       "0        tails        heads        heads        tails        heads   \n",
       "1        tails        heads        tails        tails        heads   \n",
       "2        heads        tails        heads        tails        heads   \n",
       "3        tails        heads        heads        tails        heads   \n",
       "4        tails        tails        tails        heads        heads   \n",
       "5        tails        tails        tails        heads        tails   \n",
       "6        heads        heads        heads        tails        tails   \n",
       "7        heads        tails        heads        tails        heads   \n",
       "8        heads        heads        heads        heads        heads   \n",
       "9        heads        heads        tails        heads        heads   \n",
       "\n",
       "  Simulation 5 Simulation 6 Simulation 7 Simulation 8 Simulation 9  ...  \\\n",
       "0        heads        heads        tails        heads        tails  ...   \n",
       "1        heads        tails        tails        tails        heads  ...   \n",
       "2        tails        heads        tails        heads        tails  ...   \n",
       "3        heads        tails        heads        tails        tails  ...   \n",
       "4        heads        heads        tails        tails        tails  ...   \n",
       "5        heads        heads        heads        tails        tails  ...   \n",
       "6        tails        heads        heads        tails        tails  ...   \n",
       "7        tails        heads        heads        heads        heads  ...   \n",
       "8        tails        tails        heads        tails        tails  ...   \n",
       "9        tails        heads        heads        tails        heads  ...   \n",
       "\n",
       "  Simulation 990 Simulation 991 Simulation 992 Simulation 993 Simulation 994  \\\n",
       "0          tails          heads          heads          heads          tails   \n",
       "1          heads          tails          heads          tails          heads   \n",
       "2          heads          heads          tails          heads          tails   \n",
       "3          heads          tails          tails          tails          tails   \n",
       "4          tails          tails          heads          tails          heads   \n",
       "5          tails          heads          heads          tails          tails   \n",
       "6          tails          tails          heads          tails          heads   \n",
       "7          tails          heads          heads          tails          tails   \n",
       "8          heads          heads          heads          heads          tails   \n",
       "9          heads          tails          heads          tails          heads   \n",
       "\n",
       "  Simulation 995 Simulation 996 Simulation 997 Simulation 998 Simulation 999  \n",
       "0          tails          tails          heads          tails          heads  \n",
       "1          tails          heads          heads          heads          tails  \n",
       "2          tails          tails          tails          heads          heads  \n",
       "3          tails          tails          heads          tails          tails  \n",
       "4          tails          tails          tails          heads          tails  \n",
       "5          heads          heads          tails          tails          heads  \n",
       "6          heads          heads          tails          heads          tails  \n",
       "7          heads          tails          heads          heads          heads  \n",
       "8          tails          tails          heads          heads          tails  \n",
       "9          tails          heads          tails          heads          tails  \n",
       "\n",
       "[10 rows x 1000 columns]"
      ]
     },
     "execution_count": 3,
     "metadata": {},
     "output_type": "execute_result"
    }
   ],
   "source": [
    "# Set number of simulations and coin flips\n",
    "num_simulations = 1000\n",
    "num_flips = 10\n",
    "\n",
    "# Set a list object acting as a coin: heads or tails\n",
    "coin = [\"heads\", \"tails\"]\n",
    "\n",
    "# Set probability of events\n",
    "probability = [0.5, 0.5]\n",
    "\n",
    "# Create an empty DataFrame to hold simulation results\n",
    "monte_carlo = pd.DataFrame()\n",
    "\n",
    "# Run n number of simulations\n",
    "for n in range(num_simulations):\n",
    "\n",
    "    # Print simulation iteration\n",
    "    # print(f\"Running Simulation {n+1}...\")\n",
    "    \n",
    "    # Set an empty list to hold flip results\n",
    "    flips = []\n",
    "\n",
    "    # Flip the coin several times\n",
    "    for i in range(num_flips):\n",
    "        \n",
    "        # Random int: 0 or 1\n",
    "        coin_flip = random.choice(coin, p=probability)\n",
    "        \n",
    "        # Print flip result\n",
    "        # print(f\"  Flip {i+1}: {coin_flip}\")\n",
    "\n",
    "        # Append flip result to list\n",
    "        flips.append(coin_flip)\n",
    "\n",
    "    # Append column for each simulation and flip results\n",
    "    monte_carlo[f\"Simulation {n}\"] = pd.Series(flips)\n",
    "\n",
    "# Print the DataFrame\n",
    "monte_carlo"
   ]
  },
  {
   "cell_type": "markdown",
   "metadata": {},
   "source": [
    "### Calculate Frequency Distribution of Heads-to-Tails for Each Simulation"
   ]
  },
  {
   "cell_type": "code",
   "execution_count": 4,
   "metadata": {},
   "outputs": [
    {
     "data": {
      "text/html": [
       "<div>\n",
       "<style scoped>\n",
       "    .dataframe tbody tr th:only-of-type {\n",
       "        vertical-align: middle;\n",
       "    }\n",
       "\n",
       "    .dataframe tbody tr th {\n",
       "        vertical-align: top;\n",
       "    }\n",
       "\n",
       "    .dataframe thead th {\n",
       "        text-align: right;\n",
       "    }\n",
       "</style>\n",
       "<table border=\"1\" class=\"dataframe\">\n",
       "  <thead>\n",
       "    <tr style=\"text-align: right;\">\n",
       "      <th></th>\n",
       "      <th>heads</th>\n",
       "      <th>tails</th>\n",
       "    </tr>\n",
       "  </thead>\n",
       "  <tbody>\n",
       "    <tr>\n",
       "      <th>0</th>\n",
       "      <td>5</td>\n",
       "      <td>5</td>\n",
       "    </tr>\n",
       "    <tr>\n",
       "      <th>1</th>\n",
       "      <td>6</td>\n",
       "      <td>4</td>\n",
       "    </tr>\n",
       "    <tr>\n",
       "      <th>2</th>\n",
       "      <td>6</td>\n",
       "      <td>4</td>\n",
       "    </tr>\n",
       "    <tr>\n",
       "      <th>3</th>\n",
       "      <td>4</td>\n",
       "      <td>6</td>\n",
       "    </tr>\n",
       "    <tr>\n",
       "      <th>4</th>\n",
       "      <td>8</td>\n",
       "      <td>2</td>\n",
       "    </tr>\n",
       "  </tbody>\n",
       "</table>\n",
       "</div>"
      ],
      "text/plain": [
       "   heads  tails\n",
       "0      5      5\n",
       "1      6      4\n",
       "2      6      4\n",
       "3      4      6\n",
       "4      8      2"
      ]
     },
     "execution_count": 4,
     "metadata": {},
     "output_type": "execute_result"
    }
   ],
   "source": [
    "# Set empty DataFrame to hold frequency distribution values\n",
    "freq_dist_df = pd.DataFrame()\n",
    "\n",
    "# Set empty lists to hold heads and tails results per simulation\n",
    "heads = []\n",
    "tails = []\n",
    "\n",
    "# Loop through the results of every simulation\n",
    "for col in monte_carlo.columns:\n",
    "    \n",
    "    # Use the `value_counts` function to calculate the frequency distribution \n",
    "    # of heads-to-tails for every simulation, returns Series object\n",
    "    value_count = monte_carlo[col].value_counts()\n",
    "    \n",
    "    # Append results of heads and tails to respective lists\n",
    "    # If `heads` and `tails key is present in the Series, append both results\n",
    "    if 'heads' in value_count.index and 'tails' in value_count.index:\n",
    "        heads.append(value_count['heads'])\n",
    "        tails.append(value_count['tails'])\n",
    "        \n",
    "    # If `heads` key is not present in the Series, append heads list with 0\n",
    "    # And append tails list with tails result (simulation must have returned all tails)\n",
    "    elif 'heads' not in value_count.index:\n",
    "        heads.append(0)\n",
    "        tails.append(value_count['tails'])\n",
    "        \n",
    "    # If `tails` key is not present in the Series, append tails list with 0\n",
    "    # And append heads list with heads result (simulation must have returned all heads)\n",
    "    elif 'tails' not in value_count.index:\n",
    "        tails.append(0)\n",
    "        heads.append(value_count['heads'])\n",
    "        \n",
    "# Create columns from heads and tails lists\n",
    "freq_dist_df['heads'] = heads\n",
    "freq_dist_df['tails'] = tails\n",
    "freq_dist_df.head()"
   ]
  },
  {
   "cell_type": "markdown",
   "metadata": {},
   "source": [
    "### Plot Frequency Distribution of Landing on Heads for `n` Number of Simulations of 10 Coin Flips"
   ]
  },
  {
   "cell_type": "code",
   "execution_count": 5,
   "metadata": {},
   "outputs": [
    {
     "data": {
      "text/plain": [
       "<matplotlib.axes._subplots.AxesSubplot at 0x1175ed750>"
      ]
     },
     "execution_count": 5,
     "metadata": {},
     "output_type": "execute_result"
    },
    {
     "data": {
      "image/png": "[encoded data removed]",
      "text/plain": [
       "<Figure size 432x288 with 1 Axes>"
      ]
     },
     "metadata": {
      "needs_background": "light"
     },
     "output_type": "display_data"
    }
   ],
   "source": [
    "# Plot the data as a histogram and manually set the bin ranges\n",
    "plot_title = f\"Frequency Distribution for Heads from {num_simulations} Simulations of 10 Coin Flips\"\n",
    "freq_dist_df['heads'].plot(kind='hist', title=plot_title, bins=[0, 1, 2, 3, 4, 5, 6, 7, 8, 9, 10])"
   ]
  },
  {
   "cell_type": "markdown",
   "metadata": {},
   "source": [
    "### Plot Probability Distribution of Landing on Heads for `n` Number of Simulations of 10 Coin Flips"
   ]
  },
  {
   "cell_type": "code",
   "execution_count": 6,
   "metadata": {},
   "outputs": [
    {
     "data": {
      "text/plain": [
       "<matplotlib.axes._subplots.AxesSubplot at 0x117d5e550>"
      ]
     },
     "execution_count": 6,
     "metadata": {},
     "output_type": "execute_result"
    },
    {
     "data": {
      "image/png": "[encoded data removed]",
      "text/plain": [
       "<Figure size 432x288 with 1 Axes>"
      ]
     },
     "metadata": {
      "needs_background": "light"
     },
     "output_type": "display_data"
    }
   ],
   "source": [
    "# Plot the data as a histogram with probabilities\n",
    "plot_title = f\"Probability Distribution for Heads from {num_simulations} Simulations of 10 Coin Flips\"\n",
    "freq_dist_df['heads'].plot.hist(density=True, title=plot_title, bins=[0, 1, 2, 3, 4, 5, 6, 7, 8, 9, 10])"
   ]
  },
  {
   "cell_type": "markdown",
   "metadata": {},
   "source": [
    "### Create `90%` Confidence Interval via Quantile Range"
   ]
  },
  {
   "cell_type": "code",
   "execution_count": 7,
   "metadata": {},
   "outputs": [
    {
     "data": {
      "text/plain": [
       "0.05    3.0\n",
       "0.95    8.0\n",
       "Name: heads, dtype: float64"
      ]
     },
     "execution_count": 7,
     "metadata": {},
     "output_type": "execute_result"
    }
   ],
   "source": [
    "# Set the 5th and 95th quantiles/percentiles of the frequency distribution\n",
    "confidence_interval = freq_dist_df['heads'].quantile(q=[0.05, 0.95])\n",
    "confidence_interval"
   ]
  },
  {
   "cell_type": "markdown",
   "metadata": {},
   "source": [
    "### Plot Lower and Upper Bounds of `90%` Confidence Interval "
   ]
  },
  {
   "cell_type": "code",
   "execution_count": 8,
   "metadata": {},
   "outputs": [
    {
     "data": {
      "text/plain": [
       "<matplotlib.lines.Line2D at 0x117e90f10>"
      ]
     },
     "execution_count": 8,
     "metadata": {},
     "output_type": "execute_result"
    },
    {
     "data": {
      "image/png": "[encoded data removed]",
      "text/plain": [
       "<Figure size 432x288 with 1 Axes>"
      ]
     },
     "metadata": {
      "needs_background": "light"
     },
     "output_type": "display_data"
    }
   ],
   "source": [
    "# Import standalone matplotlib library\n",
    "import matplotlib.pyplot as plt\n",
    "\n",
    "# Set boundaries for lower and upper bounds of `90%` confidence interval\n",
    "# Set boundary lines to red\n",
    "plt.figure()\n",
    "freq_dist_df['heads'].plot.hist(bins=[0,1,2,3,4,5,6,7,8,9,10], title=\"90% confidence interval for tails\")\n",
    "plt.axvline(confidence_interval.iloc[0], color='r')\n",
    "plt.axvline(confidence_interval.iloc[1], color='r')"
   ]
  }
 ],
 "metadata": {
  "kernelspec": {
   "display_name": "Python 3",
   "language": "python",
   "name": "python3"
  },
  "language_info": {
   "codemirror_mode": {
    "name": "ipython",
    "version": 3
   },
   "file_extension": ".py",
   "mimetype": "text/x-python",
   "name": "python",
   "nbconvert_exporter": "python",
   "pygments_lexer": "ipython3",
   "version": "3.7.6"
  }
 },
 "nbformat": 4,
 "nbformat_minor": 4
}
