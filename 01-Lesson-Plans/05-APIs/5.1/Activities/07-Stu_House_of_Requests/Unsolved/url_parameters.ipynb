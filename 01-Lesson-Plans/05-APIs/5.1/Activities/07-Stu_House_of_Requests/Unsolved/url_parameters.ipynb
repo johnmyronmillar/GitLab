{
 "cells": [
  {
   "cell_type": "markdown",
   "metadata": {},
   "source": [
    "# House of Requests"
   ]
  },
  {
   "cell_type": "markdown",
   "metadata": {},
   "source": [
    "Use the `Deck of Cards` API to play a game of BlackJack with a partner. Parameterize the `Deck of Cards` API `request urls` in order to create the deck of cards, as well as draw cards for the game."
   ]
  },
  {
   "cell_type": "code",
   "execution_count": 1,
   "metadata": {},
   "outputs": [],
   "source": [
    "import requests\n",
    "import json"
   ]
  },
  {
   "cell_type": "markdown",
   "metadata": {},
   "source": [
    "## Prep for the Game"
   ]
  },
  {
   "cell_type": "code",
   "execution_count": 2,
   "metadata": {},
   "outputs": [
    {
     "name": "stdout",
     "output_type": "stream",
     "text": [
      "{\n",
      "    \"success\": true,\n",
      "    \"deck_id\": \"kzawc3k6f7j3\",\n",
      "    \"remaining\": 312,\n",
      "    \"shuffled\": true\n",
      "}\n"
     ]
    }
   ],
   "source": [
    "# Declare request urls\n",
    "create_deck_url = \"https://deckofcardsapi.com/api/deck/new/shuffle/?deck_count=6\"\n",
    "draw_cards_url = \"https://deckofcardsapi.com/api/deck/{deck_id}/draw/?count=2\"\n",
    "shuffle_deck_url = \"https://deckofcardsapi.com/api/deck/{deck_id}/shuffle/\"\n",
    "\n",
    "# Execute create deck url\n",
    "create_deck = requests.get(create_deck_url).json()\n",
    "print(json.dumps(create_deck, indent=4))"
   ]
  },
  {
   "cell_type": "markdown",
   "metadata": {},
   "source": [
    "### Parse JSON and extract `deck_id`"
   ]
  },
  {
   "cell_type": "code",
   "execution_count": 3,
   "metadata": {},
   "outputs": [
    {
     "name": "stdout",
     "output_type": "stream",
     "text": [
      "kzawc3k6f7j3\n"
     ]
    }
   ],
   "source": [
    "# Select deck_id\n",
    "deck_id = create_deck['deck_id']\n",
    "print(deck_id)"
   ]
  },
  {
   "cell_type": "markdown",
   "metadata": {},
   "source": [
    "### Update `draw_cards_url` and `shuffle_deck_url` with `deck_id`"
   ]
  },
  {
   "cell_type": "code",
   "execution_count": 4,
   "metadata": {},
   "outputs": [
    {
     "name": "stdout",
     "output_type": "stream",
     "text": [
      "https://deckofcardsapi.com/api/deck/kzawc3k6f7j3/draw/?count=2\n",
      "https://deckofcardsapi.com/api/deck/kzawc3k6f7j3/shuffle/\n"
     ]
    }
   ],
   "source": [
    "# Interpolate deck_id into draw_cards_url and shuffle_deck_url\n",
    "draw_cards_url = f\"https://deckofcardsapi.com/api/deck/{deck_id}/draw/?count=2\"\n",
    "shuffle_deck_url = f\"https://deckofcardsapi.com/api/deck/{deck_id}/shuffle/\"\n",
    "print(draw_cards_url)\n",
    "print(shuffle_deck_url)"
   ]
  },
  {
   "cell_type": "markdown",
   "metadata": {},
   "source": [
    "## Player 1 Turn"
   ]
  },
  {
   "cell_type": "markdown",
   "metadata": {},
   "source": [
    "### Draw two cards"
   ]
  },
  {
   "cell_type": "code",
   "execution_count": 5,
   "metadata": {},
   "outputs": [
    {
     "name": "stdout",
     "output_type": "stream",
     "text": [
      "{\n",
      "    \"success\": true,\n",
      "    \"deck_id\": \"kzawc3k6f7j3\",\n",
      "    \"cards\": [\n",
      "        {\n",
      "            \"code\": \"AS\",\n",
      "            \"image\": \"https://deckofcardsapi.com/static/img/AS.png\",\n",
      "            \"images\": {\n",
      "                \"svg\": \"https://deckofcardsapi.com/static/img/AS.svg\",\n",
      "                \"png\": \"https://deckofcardsapi.com/static/img/AS.png\"\n",
      "            },\n",
      "            \"value\": \"ACE\",\n",
      "            \"suit\": \"SPADES\"\n",
      "        },\n",
      "        {\n",
      "            \"code\": \"6D\",\n",
      "            \"image\": \"https://deckofcardsapi.com/static/img/6D.png\",\n",
      "            \"images\": {\n",
      "                \"svg\": \"https://deckofcardsapi.com/static/img/6D.svg\",\n",
      "                \"png\": \"https://deckofcardsapi.com/static/img/6D.png\"\n",
      "            },\n",
      "            \"value\": \"6\",\n",
      "            \"suit\": \"DIAMONDS\"\n",
      "        }\n",
      "    ],\n",
      "    \"remaining\": 310\n",
      "}\n"
     ]
    }
   ],
   "source": [
    "# Draw two cards\n",
    "draw_cards = requests.get(draw_cards_url).json()\n",
    "print(json.dumps(draw_cards, indent=4))\n"
   ]
  },
  {
   "cell_type": "markdown",
   "metadata": {},
   "source": [
    "### Parse and extract `value` and `suit` elements from JSON output, for each card"
   ]
  },
  {
   "cell_type": "code",
   "execution_count": 6,
   "metadata": {},
   "outputs": [
    {
     "name": "stdout",
     "output_type": "stream",
     "text": [
      "ACE of SPADES\n",
      "6 of DIAMONDS\n"
     ]
    }
   ],
   "source": [
    "# Select returned card's value and suit (i.e. 3 of clubs)\n",
    "card_1_value = draw_cards['cards'][0]['value']\n",
    "card_1_suit = draw_cards['cards'][0]['suit']\n",
    "card_2_value = draw_cards['cards'][1]['value']\n",
    "card_2_suit = draw_cards['cards'][1]['suit']\n",
    "\n",
    "player_1_card_1 = str(card_1_value) + ' of ' + str(card_1_suit)\n",
    "player_1_card_2 = str(card_2_value) + ' of ' + str(card_2_suit) \n",
    "\n",
    "# Print player cards\n",
    "print(player_1_card_1)\n",
    "print(player_1_card_2)"
   ]
  },
  {
   "cell_type": "code",
   "execution_count": 7,
   "metadata": {},
   "outputs": [
    {
     "name": "stdout",
     "output_type": "stream",
     "text": [
      "10\n",
      "6\n",
      "Total points:  16\n"
     ]
    }
   ],
   "source": [
    "if len(str(card_1_value)) > 1:\n",
    "    card_1_value = 10\n",
    "    card_1_value = int(card_1_value)\n",
    "else:\n",
    "    card_1_value = int(card_1_value)\n",
    "    \n",
    "print(card_1_value)\n",
    "\n",
    "if len(str(card_2_value)) > 1:\n",
    "    card_2_value = 10\n",
    "    card_2_value = int(card_2_value)\n",
    "else:\n",
    "    card_2_value = int(card_2_value)\n",
    "    \n",
    "print(card_2_value)\n",
    "\n",
    "player_1_total = card_1_value + card_2_value\n",
    "print('Total points: ', player_1_total)"
   ]
  },
  {
   "cell_type": "markdown",
   "metadata": {},
   "source": [
    "### Decide whether to draw another card or skip to next player turn"
   ]
  },
  {
   "cell_type": "code",
   "execution_count": 8,
   "metadata": {},
   "outputs": [
    {
     "name": "stdout",
     "output_type": "stream",
     "text": [
      "16\n"
     ]
    }
   ],
   "source": [
    "draw_card_url = f\"https://deckofcardsapi.com/api/deck/{deck_id}/draw/?count=1\"\n",
    "\n",
    "# Draw a third card\n",
    "\n",
    "if player_1_total < 15:\n",
    "    draw_card = requests.get(draw_card_url).json()\n",
    "\n",
    "# Select returned card's value and suit (i.e. 3 of clubs)\n",
    "    card_3_value = draw_card['cards'][0]['value']\n",
    "    card_3_suit = draw_cards['cards'][0]['suit']\n",
    "\n",
    "    if len(card_3_value) > 1:\n",
    "        card_3_value = 10\n",
    "        card_3_value = int(card_3_value)\n",
    "    else:\n",
    "        card_3_value = int(card_3_value)\n",
    "    \n",
    "    player_1_total += card_3_value\n",
    "    card_3_suit = draw_cards['cards'][0]['suit']\n",
    "    player_1_card_3 = str(card_3_value) + ' of ' + str(card_3_suit) \n",
    "\n",
    "# Print player cards\n",
    "    print(player_1_card_3)\n",
    "\n",
    "print(player_1_total)\n",
    "\n",
    "# # Print player card\n",
    "# print(player_1_card_3)"
   ]
  },
  {
   "cell_type": "markdown",
   "metadata": {},
   "source": [
    "### Manually calculate player 1 points and enter below"
   ]
  },
  {
   "cell_type": "markdown",
   "metadata": {},
   "source": [
    "Player 1 points = "
   ]
  },
  {
   "cell_type": "raw",
   "metadata": {},
   "source": [
    "3 + 10 + 10 = 23 "
   ]
  },
  {
   "cell_type": "markdown",
   "metadata": {},
   "source": [
    "## Player 2 / Dealer Turn"
   ]
  },
  {
   "cell_type": "code",
   "execution_count": 9,
   "metadata": {},
   "outputs": [
    {
     "name": "stdout",
     "output_type": "stream",
     "text": [
      "{\n",
      "    \"success\": true,\n",
      "    \"deck_id\": \"kzawc3k6f7j3\",\n",
      "    \"cards\": [\n",
      "        {\n",
      "            \"code\": \"5H\",\n",
      "            \"image\": \"https://deckofcardsapi.com/static/img/5H.png\",\n",
      "            \"images\": {\n",
      "                \"svg\": \"https://deckofcardsapi.com/static/img/5H.svg\",\n",
      "                \"png\": \"https://deckofcardsapi.com/static/img/5H.png\"\n",
      "            },\n",
      "            \"value\": \"5\",\n",
      "            \"suit\": \"HEARTS\"\n",
      "        },\n",
      "        {\n",
      "            \"code\": \"3D\",\n",
      "            \"image\": \"https://deckofcardsapi.com/static/img/3D.png\",\n",
      "            \"images\": {\n",
      "                \"svg\": \"https://deckofcardsapi.com/static/img/3D.svg\",\n",
      "                \"png\": \"https://deckofcardsapi.com/static/img/3D.png\"\n",
      "            },\n",
      "            \"value\": \"3\",\n",
      "            \"suit\": \"DIAMONDS\"\n",
      "        }\n",
      "    ],\n",
      "    \"remaining\": 308\n",
      "}\n",
      "5 of HEARTS\n",
      "3 of DIAMONDS\n"
     ]
    }
   ],
   "source": [
    "# Draw two cards for player 1\n",
    "draw_cards = requests.get(draw_cards_url).json()\n",
    "print(json.dumps(draw_cards, indent=4))\n",
    "\n",
    "\n",
    "# Select card value and suit \n",
    "card_1_value = draw_cards['cards'][0]['value']\n",
    "card_1_suit = draw_cards['cards'][0]['suit']\n",
    "card_2_value = draw_cards['cards'][1]['value']\n",
    "card_2_suit = draw_cards['cards'][1]['suit']\n",
    "\n",
    "player_2_card_1 = str(card_1_value) + ' of ' + str(card_1_suit)\n",
    "player_2_card_2 = str(card_2_value) + ' of ' + str(card_2_suit)\n",
    "\n",
    "# Print player cards\n",
    "print(player_2_card_1)\n",
    "print(player_2_card_2)\n",
    "\n"
   ]
  },
  {
   "cell_type": "code",
   "execution_count": 10,
   "metadata": {},
   "outputs": [
    {
     "name": "stdout",
     "output_type": "stream",
     "text": [
      "5\n",
      "3\n",
      "Total Points: 8\n"
     ]
    }
   ],
   "source": [
    "if len(str(card_1_value)) > 1:\n",
    "    card_1_value = 10\n",
    "    card_1_value = int(card_1_value)\n",
    "else:\n",
    "    card_1_value = int(card_1_value)\n",
    "    \n",
    "print(card_1_value)\n",
    "\n",
    "if len(str(card_2_value)) > 1:\n",
    "    card_2_value = 10\n",
    "    card_2_value = int(card_2_value)\n",
    "else:\n",
    "    card_2_value = int(card_2_value)\n",
    "    \n",
    "print(card_2_value)\n",
    "player_2_total = card_1_value + card_2_value\n",
    "print('Total Points:', player_2_total)"
   ]
  },
  {
   "cell_type": "code",
   "execution_count": 11,
   "metadata": {},
   "outputs": [
    {
     "name": "stdout",
     "output_type": "stream",
     "text": [
      "QUEEN of CLUBS\n",
      "18\n"
     ]
    }
   ],
   "source": [
    "# Draw third card for player 2\n",
    "\n",
    "if (player_2_total < 15 and player_2_total < player_1_total) or (player_2_total < player_1_total and player_1_total <=21) :\n",
    "    draw_cards = requests.get(draw_card_url).json()\n",
    "\n",
    "# Select returned card's value and suit (i.e. 3 of clubs)\n",
    "    card_3_value = draw_cards['cards'][0]['value']\n",
    "    card_3_suit = draw_cards['cards'][0]['suit']\n",
    "    player_2_card_3 = str(card_3_value) + ' of ' + str(card_3_suit)\n",
    "    print(player_2_card_3)\n",
    "    \n",
    "    if len(card_3_value) > 1:\n",
    "        card_3_value = 10\n",
    "        card_3_value = int(card_3_value)\n",
    "    else:\n",
    "        card_3_value = int(card_3_value)\n",
    "    player_2_total += card_3_value\n",
    "    \n",
    "# Print player card\n",
    "print(player_2_total)"
   ]
  },
  {
   "cell_type": "markdown",
   "metadata": {},
   "source": [
    "### Manually calculate player 2 points and enter below"
   ]
  },
  {
   "cell_type": "markdown",
   "metadata": {},
   "source": [
    "Player 2 points ="
   ]
  },
  {
   "cell_type": "raw",
   "metadata": {},
   "source": []
  },
  {
   "cell_type": "code",
   "execution_count": 12,
   "metadata": {},
   "outputs": [
    {
     "name": "stdout",
     "output_type": "stream",
     "text": [
      "{\n",
      "    \"success\": true,\n",
      "    \"deck_id\": \"kzawc3k6f7j3\",\n",
      "    \"remaining\": 307,\n",
      "    \"shuffled\": true\n",
      "}\n"
     ]
    }
   ],
   "source": [
    "deck_url = f\"https://deckofcardsapi.com/api/deck/{deck_id}\"\n",
    "deck = requests.get(deck_url).json()\n",
    "print(json.dumps(deck, indent=4))\n",
    "\n",
    "remaining = deck['remaining']\n"
   ]
  },
  {
   "cell_type": "code",
   "execution_count": 13,
   "metadata": {},
   "outputs": [
    {
     "name": "stdout",
     "output_type": "stream",
     "text": [
      "307\n"
     ]
    }
   ],
   "source": [
    "# determine if to resuffle\n",
    "if remaining < 50:\n",
    "    shuffle_deck = request.get(shuffle_deck_url).json()\n",
    "    print(json.dumps(shuffle_deck, indent=4))\n",
    "else:\n",
    "    print(remaining)"
   ]
  }
 ],
 "metadata": {
  "kernelspec": {
   "display_name": "Python 3",
   "language": "python",
   "name": "python3"
  },
  "language_info": {
   "codemirror_mode": {
    "name": "ipython",
    "version": 3
   },
   "file_extension": ".py",
   "mimetype": "text/x-python",
   "name": "python",
   "nbconvert_exporter": "python",
   "pygments_lexer": "ipython3",
   "version": "3.7.6"
  }
 },
 "nbformat": 4,
 "nbformat_minor": 2
}
