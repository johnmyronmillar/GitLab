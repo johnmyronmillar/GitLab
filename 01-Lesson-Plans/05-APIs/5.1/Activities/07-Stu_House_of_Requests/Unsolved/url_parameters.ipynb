{
 "cells": [
  {
   "cell_type": "markdown",
   "metadata": {},
   "source": [
    "# House of Requests"
   ]
  },
  {
   "cell_type": "markdown",
   "metadata": {},
   "source": [
    "Use the `Deck of Cards` API to play a game of BlackJack with a partner. Parameterize the `Deck of Cards` API `request urls` in order to create the deck of cards, as well as draw cards for the game."
   ]
  },
  {
   "cell_type": "code",
   "execution_count": 2,
   "metadata": {},
   "outputs": [],
   "source": [
    "import requests\n",
    "import json"
   ]
  },
  {
   "cell_type": "markdown",
   "metadata": {},
   "source": [
    "## Prep for the Game"
   ]
  },
  {
   "cell_type": "code",
   "execution_count": 5,
   "metadata": {},
   "outputs": [
    {
     "name": "stdout",
     "output_type": "stream",
     "text": [
      "{\n",
      "    \"success\": true,\n",
      "    \"deck_id\": \"k85whv647qut\",\n",
      "    \"remaining\": 312,\n",
      "    \"shuffled\": true\n",
      "}\n"
     ]
    }
   ],
   "source": [
    "# Declare request urls\n",
    "create_deck_url = \"https://deckofcardsapi.com/api/deck/new/shuffle/?deck_count=6\"\n",
    "draw_cards_url = \"https://deckofcardsapi.com/api/deck/{deck_id}/draw/?count=2\"\n",
    "shuffle_deck_url = \"https://deckofcardsapi.com/api/deck/{deck_id}/shuffle/\"\n",
    "\n",
    "# Execute create deck url\n",
    "create_deck = requests.get(create_deck_url).json()\n",
    "print(json.dumps(create_deck, indent=4))"
   ]
  },
  {
   "cell_type": "markdown",
   "metadata": {},
   "source": [
    "### Parse JSON and extract `deck_id`"
   ]
  },
  {
   "cell_type": "code",
   "execution_count": 6,
   "metadata": {},
   "outputs": [
    {
     "name": "stdout",
     "output_type": "stream",
     "text": [
      "k85whv647qut\n"
     ]
    }
   ],
   "source": [
    "# Select deck_id\n",
    "deck_id = create_deck['deck_id']\n",
    "print(deck_id)"
   ]
  },
  {
   "cell_type": "markdown",
   "metadata": {},
   "source": [
    "### Update `draw_cards_url` and `shuffle_deck_url` with `deck_id`"
   ]
  },
  {
   "cell_type": "code",
   "execution_count": 7,
   "metadata": {},
   "outputs": [
    {
     "name": "stdout",
     "output_type": "stream",
     "text": [
      "https://deckofcardsapi.com/api/deck/k85whv647qut/draw/?count=2\n",
      "https://deckofcardsapi.com/api/deck/k85whv647qut/shuffle/\n"
     ]
    }
   ],
   "source": [
    "# Interpolate deck_id into draw_cards_url and shuffle_deck_url\n",
    "draw_cards_url = f\"https://deckofcardsapi.com/api/deck/{deck_id}/draw/?count=2\"\n",
    "shuffle_deck_url = f\"https://deckofcardsapi.com/api/deck/{deck_id}/shuffle/\"\n",
    "print(draw_cards_url)\n",
    "print(shuffle_deck_url)"
   ]
  },
  {
   "cell_type": "markdown",
   "metadata": {},
   "source": [
    "## Player 1 Turn"
   ]
  },
  {
   "cell_type": "markdown",
   "metadata": {},
   "source": [
    "### Draw two cards"
   ]
  },
  {
   "cell_type": "code",
   "execution_count": 16,
   "metadata": {},
   "outputs": [
    {
     "name": "stdout",
     "output_type": "stream",
     "text": [
      "{\n",
      "    \"success\": true,\n",
      "    \"deck_id\": \"k85whv647qut\",\n",
      "    \"cards\": [\n",
      "        {\n",
      "            \"code\": \"3D\",\n",
      "            \"image\": \"https://deckofcardsapi.com/static/img/3D.png\",\n",
      "            \"images\": {\n",
      "                \"svg\": \"https://deckofcardsapi.com/static/img/3D.svg\",\n",
      "                \"png\": \"https://deckofcardsapi.com/static/img/3D.png\"\n",
      "            },\n",
      "            \"value\": \"3\",\n",
      "            \"suit\": \"DIAMONDS\"\n",
      "        },\n",
      "        {\n",
      "            \"code\": \"KH\",\n",
      "            \"image\": \"https://deckofcardsapi.com/static/img/KH.png\",\n",
      "            \"images\": {\n",
      "                \"svg\": \"https://deckofcardsapi.com/static/img/KH.svg\",\n",
      "                \"png\": \"https://deckofcardsapi.com/static/img/KH.png\"\n",
      "            },\n",
      "            \"value\": \"KING\",\n",
      "            \"suit\": \"HEARTS\"\n",
      "        }\n",
      "    ],\n",
      "    \"remaining\": 308\n",
      "}\n"
     ]
    }
   ],
   "source": [
    "# Draw two cards\n",
    "draw_cards = requests.get(draw_cards_url).json()\n",
    "print(json.dumps(draw_cards, indent=4))\n"
   ]
  },
  {
   "cell_type": "markdown",
   "metadata": {},
   "source": [
    "### Parse and extract `value` and `suit` elements from JSON output, for each card"
   ]
  },
  {
   "cell_type": "code",
   "execution_count": 17,
   "metadata": {},
   "outputs": [
    {
     "name": "stdout",
     "output_type": "stream",
     "text": [
      "3 of DIAMONDS\n",
      "KING of HEARTS\n"
     ]
    }
   ],
   "source": [
    "# Select returned card's value and suit (i.e. 3 of clubs)\n",
    "card_1_value = draw_cards['cards'][0]['value']\n",
    "card_1_suit = draw_cards['cards'][0]['suit']\n",
    "card_2_value = draw_cards['cards'][1]['value']\n",
    "card_2_suit = draw_cards['cards'][1]['suit']\n",
    "\n",
    "player_1_card_1 = str(card_1_value) + ' of ' + str(card_1_suit)\n",
    "player_1_card_2 = str(card_2_value) + ' of ' + str(card_2_suit) \n",
    "\n",
    "# Print player cards\n",
    "print(player_1_card_1)\n",
    "print(player_1_card_2)"
   ]
  },
  {
   "cell_type": "code",
   "execution_count": 20,
   "metadata": {},
   "outputs": [
    {
     "name": "stdout",
     "output_type": "stream",
     "text": [
      "3\n"
     ]
    }
   ],
   "source": [
    "if len(card_1_value) > 1:\n",
    "    card_1_value = 10\n",
    "    card_1_value = int(card_1_value)\n",
    "else:\n",
    "    card_1_value = int(card_1_value)\n",
    "    \n",
    "print(card_1_value)"
   ]
  },
  {
   "cell_type": "code",
   "execution_count": 21,
   "metadata": {},
   "outputs": [
    {
     "name": "stdout",
     "output_type": "stream",
     "text": [
      "10\n"
     ]
    }
   ],
   "source": [
    "if len(card_2_value) > 1:\n",
    "    card_2_value = 10\n",
    "    card_2_value = int(card_2_value)\n",
    "else:\n",
    "    card_2_value = int(card_2_value)\n",
    "    \n",
    "print(card_2_value)"
   ]
  },
  {
   "cell_type": "markdown",
   "metadata": {},
   "source": [
    "### Decide whether to draw another card or skip to next player turn"
   ]
  },
  {
   "cell_type": "code",
   "execution_count": 24,
   "metadata": {},
   "outputs": [
    {
     "name": "stdout",
     "output_type": "stream",
     "text": [
      "13\n",
      "16\n"
     ]
    }
   ],
   "source": [
    "# Draw a third card\n",
    "total_points = card_1_value + card_2_value\n",
    "\n",
    "if total_points < 15:\n",
    "    draw_cards = requests.get(draw_cards_url).json()\n",
    "\n",
    "# Select returned card's value and suit (i.e. 3 of clubs)\n",
    "card_3_value = draw_cards['cards'][0]['value']\n",
    "\n",
    "if len(card_3_value) > 1:\n",
    "    card_3_value = 10\n",
    "    card_3_value = int(card_3_value)\n",
    "else:\n",
    "    card_3_value = int(card_3_value)\n",
    "    \n",
    "total_points += card_3_value\n",
    "print(total_points)\n",
    "\n",
    "# # Print player card\n",
    "# print(player_1_card_3)"
   ]
  },
  {
   "cell_type": "code",
   "execution_count": 26,
   "metadata": {},
   "outputs": [
    {
     "name": "stdout",
     "output_type": "stream",
     "text": [
      "3 of CLUBS\n"
     ]
    }
   ],
   "source": [
    "card_3_suit = draw_cards['cards'][0]['suit']\n",
    "player_1_card_3 = str(card_3_value) + ' of ' + str(card_3_suit) \n",
    "\n",
    "# Print player cards\n",
    "print(player_1_card_3)"
   ]
  },
  {
   "cell_type": "markdown",
   "metadata": {},
   "source": [
    "### Manually calculate player 1 points and enter below"
   ]
  },
  {
   "cell_type": "markdown",
   "metadata": {},
   "source": [
    "Player 1 points = "
   ]
  },
  {
   "cell_type": "raw",
   "metadata": {},
   "source": [
    "3 + King(10) + 3 = 16 "
   ]
  },
  {
   "cell_type": "markdown",
   "metadata": {},
   "source": [
    "## Player 2 / Dealer Turn"
   ]
  },
  {
   "cell_type": "code",
   "execution_count": 27,
   "metadata": {},
   "outputs": [
    {
     "name": "stdout",
     "output_type": "stream",
     "text": [
      "{\n",
      "    \"success\": true,\n",
      "    \"deck_id\": \"k85whv647qut\",\n",
      "    \"cards\": [\n",
      "        {\n",
      "            \"code\": \"KH\",\n",
      "            \"image\": \"https://deckofcardsapi.com/static/img/KH.png\",\n",
      "            \"images\": {\n",
      "                \"svg\": \"https://deckofcardsapi.com/static/img/KH.svg\",\n",
      "                \"png\": \"https://deckofcardsapi.com/static/img/KH.png\"\n",
      "            },\n",
      "            \"value\": \"KING\",\n",
      "            \"suit\": \"HEARTS\"\n",
      "        },\n",
      "        {\n",
      "            \"code\": \"0S\",\n",
      "            \"image\": \"https://deckofcardsapi.com/static/img/0S.png\",\n",
      "            \"images\": {\n",
      "                \"svg\": \"https://deckofcardsapi.com/static/img/0S.svg\",\n",
      "                \"png\": \"https://deckofcardsapi.com/static/img/0S.png\"\n",
      "            },\n",
      "            \"value\": \"10\",\n",
      "            \"suit\": \"SPADES\"\n",
      "        }\n",
      "    ],\n",
      "    \"remaining\": 304\n",
      "}\n",
      "KING of HEARTS\n",
      "10 of SPADES\n"
     ]
    }
   ],
   "source": [
    "# Draw two cards for player 1\n",
    "draw_cards = requests.get(draw_cards_url).json()\n",
    "print(json.dumps(draw_cards, indent=4))\n",
    "\n",
    "\n",
    "# Select card value and suit \n",
    "card_1_value = draw_cards['cards'][0]['value']\n",
    "card_1_suit = draw_cards['cards'][0]['suit']\n",
    "card_2_value = draw_cards['cards'][1]['value']\n",
    "card_2_suit = draw_cards['cards'][1]['suit']\n",
    "\n",
    "player_2_card_1 = str(card_1_value) + ' of ' + str(card_1_suit)\n",
    "player_2_card_2 = str(card_2_value) + ' of ' + str(card_2_suit)\n",
    "\n",
    "# Print player cards\n",
    "print(player_2_card_1)\n",
    "print(player_2_card_2)\n",
    "\n"
   ]
  },
  {
   "cell_type": "code",
   "execution_count": null,
   "metadata": {},
   "outputs": [],
   "source": [
    "# Draw third card for player 2\n",
    "total_points = card_1_value + card_2_value\n",
    "\n",
    "if total_points < 15:\n",
    "    draw_cards = requests.get(draw_cards_url).json()\n",
    "\n",
    "# Select returned card's value and suit (i.e. 3 of clubs)\n",
    "card_3_value = draw_cards['cards'][0]['value']\n",
    "\n",
    "if len(card_3_value) > 1:\n",
    "    card_3_value = 10\n",
    "    card_3_value = int(card_3_value)\n",
    "else:\n",
    "    card_3_value = int(card_3_value)\n",
    "    \n",
    "total_points += card_3_value\n",
    "print(total_points)\n",
    "\n",
    "# Print player card\n",
    "print(player_2_card_3)"
   ]
  },
  {
   "cell_type": "markdown",
   "metadata": {},
   "source": [
    "### Manually calculate player 2 points and enter below"
   ]
  },
  {
   "cell_type": "markdown",
   "metadata": {},
   "source": [
    "Player 2 points ="
   ]
  },
  {
   "cell_type": "raw",
   "metadata": {},
   "source": []
  }
 ],
 "metadata": {
  "kernelspec": {
   "display_name": "Python 3",
   "language": "python",
   "name": "python3"
  },
  "language_info": {
   "codemirror_mode": {
    "name": "ipython",
    "version": 3
   },
   "file_extension": ".py",
   "mimetype": "text/x-python",
   "name": "python",
   "nbconvert_exporter": "python",
   "pygments_lexer": "ipython3",
   "version": "3.7.6"
  }
 },
 "nbformat": 4,
 "nbformat_minor": 2
}
