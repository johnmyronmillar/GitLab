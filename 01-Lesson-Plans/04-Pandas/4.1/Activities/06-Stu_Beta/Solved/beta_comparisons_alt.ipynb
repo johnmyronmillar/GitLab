{
 "cells": [
  {
   "cell_type": "markdown",
   "metadata": {},
   "source": [
    "### Student Activity: Beta Comparisons\n",
    "\n",
    "This program reads in the daily closing prices of social media stocks—FB, TWTR, SNAP—and the S&P 500 as CSVs and calculates the rolling 30-day beta values of each social media to plot the trends in volatility relative to the market."
   ]
  },
  {
   "cell_type": "code",
   "execution_count": 1,
   "metadata": {},
   "outputs": [],
   "source": [
    "# Import libraries and dependencies\n",
    "import pandas as pd\n",
    "from pathlib import Path\n",
    "import matplotlib.pyplot as plt\n",
    "%matplotlib inline\n",
    "from glob import glob"
   ]
  },
  {
   "cell_type": "code",
   "execution_count": 2,
   "metadata": {},
   "outputs": [],
   "source": [
    "def combine(directory):\n",
    "    df_list = []\n",
    "    for path in glob(directory + \"/*csv\"):\n",
    "        df = pd.read_csv(path, \n",
    "                         parse_dates=True, \n",
    "                         index_col='date', \n",
    "                         names=['date', path.split('/')[-1].split('.')[0].split('_')[0].upper()], \n",
    "                         header=0)\n",
    "        df_list.append(df)\n",
    "    return pd.concat(df_list, axis='columns', join='inner')\n",
    "combined = combine(\"../Resources\")"
   ]
  },
  {
   "cell_type": "code",
   "execution_count": 3,
   "metadata": {},
   "outputs": [
    {
     "data": {
      "text/html": [
       "<div>\n",
       "<style scoped>\n",
       "    .dataframe tbody tr th:only-of-type {\n",
       "        vertical-align: middle;\n",
       "    }\n",
       "\n",
       "    .dataframe tbody tr th {\n",
       "        vertical-align: top;\n",
       "    }\n",
       "\n",
       "    .dataframe thead th {\n",
       "        text-align: right;\n",
       "    }\n",
       "</style>\n",
       "<table border=\"1\" class=\"dataframe\">\n",
       "  <thead>\n",
       "    <tr style=\"text-align: right;\">\n",
       "      <th></th>\n",
       "      <th>TWTR</th>\n",
       "      <th>SNAP</th>\n",
       "      <th>SP500</th>\n",
       "      <th>FB</th>\n",
       "    </tr>\n",
       "    <tr>\n",
       "      <th>date</th>\n",
       "      <th></th>\n",
       "      <th></th>\n",
       "      <th></th>\n",
       "      <th></th>\n",
       "    </tr>\n",
       "  </thead>\n",
       "  <tbody>\n",
       "    <tr>\n",
       "      <th>2019-05-16</th>\n",
       "      <td>0.021333</td>\n",
       "      <td>-0.006092</td>\n",
       "      <td>0.005872</td>\n",
       "      <td>0.009120</td>\n",
       "    </tr>\n",
       "    <tr>\n",
       "      <th>2019-05-15</th>\n",
       "      <td>-0.010444</td>\n",
       "      <td>-0.066550</td>\n",
       "      <td>-0.008817</td>\n",
       "      <td>-0.003850</td>\n",
       "    </tr>\n",
       "    <tr>\n",
       "      <th>2019-05-14</th>\n",
       "      <td>-0.025594</td>\n",
       "      <td>-0.015947</td>\n",
       "      <td>-0.005805</td>\n",
       "      <td>-0.029742</td>\n",
       "    </tr>\n",
       "    <tr>\n",
       "      <th>2019-05-13</th>\n",
       "      <td>-0.009207</td>\n",
       "      <td>-0.036225</td>\n",
       "      <td>-0.007952</td>\n",
       "      <td>0.004482</td>\n",
       "    </tr>\n",
       "    <tr>\n",
       "      <th>2019-05-10</th>\n",
       "      <td>0.050834</td>\n",
       "      <td>0.037587</td>\n",
       "      <td>0.024727</td>\n",
       "      <td>0.037457</td>\n",
       "    </tr>\n",
       "  </tbody>\n",
       "</table>\n",
       "</div>"
      ],
      "text/plain": [
       "                TWTR      SNAP     SP500        FB\n",
       "date                                              \n",
       "2019-05-16  0.021333 -0.006092  0.005872  0.009120\n",
       "2019-05-15 -0.010444 -0.066550 -0.008817 -0.003850\n",
       "2019-05-14 -0.025594 -0.015947 -0.005805 -0.029742\n",
       "2019-05-13 -0.009207 -0.036225 -0.007952  0.004482\n",
       "2019-05-10  0.050834  0.037587  0.024727  0.037457"
      ]
     },
     "execution_count": 3,
     "metadata": {},
     "output_type": "execute_result"
    }
   ],
   "source": [
    "returns = combined.pct_change().dropna()\n",
    "returns.head()"
   ]
  },
  {
   "cell_type": "code",
   "execution_count": 4,
   "metadata": {},
   "outputs": [
    {
     "data": {
      "text/plain": [
       "{'TWTR': 1.5193591987729476,\n",
       " 'SNAP': 1.1525883660496732,\n",
       " 'SP500': 1.0000000000000002,\n",
       " 'FB': 1.281859508524622}"
      ]
     },
     "execution_count": 4,
     "metadata": {},
     "output_type": "execute_result"
    }
   ],
   "source": [
    "beta_dict = {}\n",
    "for column in returns.columns:   \n",
    "    covarience = returns[column].cov(returns['SP500']) \n",
    "    varience = returns['SP500'].var()\n",
    "    beta_dict[column] = covarience / varience\n",
    "beta_dict"
   ]
  },
  {
   "cell_type": "code",
   "execution_count": 5,
   "metadata": {},
   "outputs": [],
   "source": [
    "def rolling_beta(window=30):    \n",
    "    beta_dict = {}\n",
    "    for column in returns.columns:\n",
    "        covarience = returns[column].rolling(window=window).cov(returns['SP500'].rolling(window=window)) \n",
    "        varience = returns['SP500'].rolling(window=window).var()\n",
    "        beta_dict[column] = covarience / varience\n",
    "    return beta_dict    "
   ]
  },
  {
   "cell_type": "code",
   "execution_count": 6,
   "metadata": {},
   "outputs": [
    {
     "data": {
      "image/png": "[encoded data removed]",
      "text/plain": [
       "<Figure size 432x288 with 1 Axes>"
      ]
     },
     "metadata": {
      "needs_background": "light"
     },
     "output_type": "display_data"
    }
   ],
   "source": [
    "fig, ax = plt.subplots()\n",
    "beta_dict = rolling_beta(90)\n",
    "for k, v in beta_dict.items():\n",
    "    v.plot(ax=ax, label=k)\n",
    "    plt.legend()"
   ]
  }
 ],
 "metadata": {
  "kernelspec": {
   "display_name": "Python 3",
   "language": "python",
   "name": "python3"
  },
  "language_info": {
   "codemirror_mode": {
    "name": "ipython",
    "version": 3
   },
   "file_extension": ".py",
   "mimetype": "text/x-python",
   "name": "python",
   "nbconvert_exporter": "python",
   "pygments_lexer": "ipython3",
   "version": "3.7.7"
  }
 },
 "nbformat": 4,
 "nbformat_minor": 2
}
