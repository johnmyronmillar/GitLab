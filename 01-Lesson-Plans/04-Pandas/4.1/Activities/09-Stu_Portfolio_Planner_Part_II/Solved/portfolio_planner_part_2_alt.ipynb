{
 "cells": [
  {
   "cell_type": "markdown",
   "metadata": {},
   "source": [
    "### Student Activity: Portfolio Planner Part 2\n",
    "\n",
    "This program is part 2 of a two-part student activity and continues the following:\n",
    "\n",
    "`PART I: Portfolio Optimization via Risk Evaluation`\n",
    "\n",
    "Reads in the CSV datasets of 10 stocks, calculates the volatility of each stock, drops the top-five highly volatile stocks, sets allocations for the remaining stocks based on risk/volatility, and calculates the returns of a hypothetical `$10,000` investment for the constructed portfolio.\n",
    "\n",
    "`PART II: Portfolio Optimization via Correlation and Return-to-Risk (Sharpe Ratio) Evaluations`\n",
    "\n",
    "Alternatively filters the same 10 stocks (from part 1) down to only minimally-correlated stocks with higher sharpe ratios, and calculates the returns of a hypothetical `$10,000` investment for the constructed optimized portfolio. Returns of the optimized portfolio are then compared to lesser-optimized portfolios."
   ]
  },
  {
   "cell_type": "markdown",
   "metadata": {},
   "source": [
    "---"
   ]
  },
  {
   "cell_type": "markdown",
   "metadata": {},
   "source": [
    "### PART 1: Portfolio Optimization via Risk Evaluation"
   ]
  },
  {
   "cell_type": "code",
   "execution_count": 1,
   "metadata": {},
   "outputs": [],
   "source": [
    "# Import libraries and dependencies\n",
    "import numpy as np\n",
    "import pandas as pd\n",
    "from pathlib import Path\n",
    "import matplotlib.pyplot as plt\n",
    "%matplotlib inline\n",
    "import seaborn as sns\n",
    "from glob import glob"
   ]
  },
  {
   "cell_type": "markdown",
   "metadata": {},
   "source": [
    "### Read CSVs as DataFrames "
   ]
  },
  {
   "cell_type": "code",
   "execution_count": 2,
   "metadata": {},
   "outputs": [
    {
     "data": {
      "text/html": [
       "<div>\n",
       "<style scoped>\n",
       "    .dataframe tbody tr th:only-of-type {\n",
       "        vertical-align: middle;\n",
       "    }\n",
       "\n",
       "    .dataframe tbody tr th {\n",
       "        vertical-align: top;\n",
       "    }\n",
       "\n",
       "    .dataframe thead th {\n",
       "        text-align: right;\n",
       "    }\n",
       "</style>\n",
       "<table border=\"1\" class=\"dataframe\">\n",
       "  <thead>\n",
       "    <tr style=\"text-align: right;\">\n",
       "      <th></th>\n",
       "      <th>WRK</th>\n",
       "      <th>MU</th>\n",
       "      <th>SBUX</th>\n",
       "      <th>FANG</th>\n",
       "      <th>JNJ</th>\n",
       "      <th>WDC</th>\n",
       "      <th>T</th>\n",
       "      <th>BK</th>\n",
       "      <th>LUV</th>\n",
       "      <th>NKE</th>\n",
       "    </tr>\n",
       "    <tr>\n",
       "      <th>date</th>\n",
       "      <th></th>\n",
       "      <th></th>\n",
       "      <th></th>\n",
       "      <th></th>\n",
       "      <th></th>\n",
       "      <th></th>\n",
       "      <th></th>\n",
       "      <th></th>\n",
       "      <th></th>\n",
       "      <th></th>\n",
       "    </tr>\n",
       "  </thead>\n",
       "  <tbody>\n",
       "    <tr>\n",
       "      <th>2015-06-24</th>\n",
       "      <td>58.5699</td>\n",
       "      <td>24.06</td>\n",
       "      <td>53.710</td>\n",
       "      <td>77.96</td>\n",
       "      <td>99.33</td>\n",
       "      <td>87.73</td>\n",
       "      <td>35.78</td>\n",
       "      <td>43.29</td>\n",
       "      <td>34.35</td>\n",
       "      <td>53.110</td>\n",
       "    </tr>\n",
       "    <tr>\n",
       "      <th>2015-06-25</th>\n",
       "      <td>57.2022</td>\n",
       "      <td>24.02</td>\n",
       "      <td>54.070</td>\n",
       "      <td>76.39</td>\n",
       "      <td>99.12</td>\n",
       "      <td>85.95</td>\n",
       "      <td>36.18</td>\n",
       "      <td>42.85</td>\n",
       "      <td>34.49</td>\n",
       "      <td>52.610</td>\n",
       "    </tr>\n",
       "    <tr>\n",
       "      <th>2015-06-26</th>\n",
       "      <td>57.2022</td>\n",
       "      <td>19.66</td>\n",
       "      <td>54.620</td>\n",
       "      <td>75.25</td>\n",
       "      <td>99.64</td>\n",
       "      <td>84.45</td>\n",
       "      <td>36.12</td>\n",
       "      <td>42.98</td>\n",
       "      <td>34.32</td>\n",
       "      <td>54.855</td>\n",
       "    </tr>\n",
       "    <tr>\n",
       "      <th>2015-06-29</th>\n",
       "      <td>56.1857</td>\n",
       "      <td>18.73</td>\n",
       "      <td>53.550</td>\n",
       "      <td>75.16</td>\n",
       "      <td>97.68</td>\n",
       "      <td>81.96</td>\n",
       "      <td>35.77</td>\n",
       "      <td>41.79</td>\n",
       "      <td>33.18</td>\n",
       "      <td>53.835</td>\n",
       "    </tr>\n",
       "    <tr>\n",
       "      <th>2015-06-30</th>\n",
       "      <td>56.2781</td>\n",
       "      <td>18.84</td>\n",
       "      <td>53.615</td>\n",
       "      <td>75.38</td>\n",
       "      <td>97.46</td>\n",
       "      <td>78.42</td>\n",
       "      <td>35.52</td>\n",
       "      <td>41.97</td>\n",
       "      <td>33.09</td>\n",
       "      <td>54.010</td>\n",
       "    </tr>\n",
       "  </tbody>\n",
       "</table>\n",
       "</div>"
      ],
      "text/plain": [
       "                WRK     MU    SBUX   FANG    JNJ    WDC      T     BK    LUV  \\\n",
       "date                                                                           \n",
       "2015-06-24  58.5699  24.06  53.710  77.96  99.33  87.73  35.78  43.29  34.35   \n",
       "2015-06-25  57.2022  24.02  54.070  76.39  99.12  85.95  36.18  42.85  34.49   \n",
       "2015-06-26  57.2022  19.66  54.620  75.25  99.64  84.45  36.12  42.98  34.32   \n",
       "2015-06-29  56.1857  18.73  53.550  75.16  97.68  81.96  35.77  41.79  33.18   \n",
       "2015-06-30  56.2781  18.84  53.615  75.38  97.46  78.42  35.52  41.97  33.09   \n",
       "\n",
       "               NKE  \n",
       "date                \n",
       "2015-06-24  53.110  \n",
       "2015-06-25  52.610  \n",
       "2015-06-26  54.855  \n",
       "2015-06-29  53.835  \n",
       "2015-06-30  54.010  "
      ]
     },
     "execution_count": 2,
     "metadata": {},
     "output_type": "execute_result"
    }
   ],
   "source": [
    "def combine(directory):\n",
    "    df_list = []\n",
    "    for path in glob(directory + \"/*csv\"):\n",
    "        df = pd.read_csv(path, \n",
    "                         parse_dates=True, \n",
    "                         index_col='date', \n",
    "                         names=['date', path.split('/')[-1].split('.')[0].split('_')[0].upper()], \n",
    "                         header=0)\n",
    "        df_list.append(df)\n",
    "    return pd.concat(df_list, axis='columns', join='inner').sort_index()\n",
    "combined = combine(\"../Resources\")\n",
    "combined.head()"
   ]
  },
  {
   "cell_type": "markdown",
   "metadata": {},
   "source": [
    "### Calculate Daily Returns"
   ]
  },
  {
   "cell_type": "code",
   "execution_count": 3,
   "metadata": {},
   "outputs": [],
   "source": [
    "# Use the `pct_change` function to calculate daily returns\n",
    "original_returns = combined.pct_change().dropna()"
   ]
  },
  {
   "cell_type": "markdown",
   "metadata": {},
   "source": [
    "### Evaluate Riskiness of Stocks"
   ]
  },
  {
   "cell_type": "code",
   "execution_count": 4,
   "metadata": {},
   "outputs": [
    {
     "data": {
      "text/plain": [
       "MU      0.479955\n",
       "WDC     0.415605\n",
       "FANG    0.370704\n",
       "WRK     0.303601\n",
       "LUV     0.280021\n",
       "NKE     0.246045\n",
       "BK      0.224967\n",
       "SBUX    0.206805\n",
       "T       0.187579\n",
       "JNJ     0.161128\n",
       "dtype: float64"
      ]
     },
     "execution_count": 4,
     "metadata": {},
     "output_type": "execute_result"
    }
   ],
   "source": [
    "# Use the `std` function and multiply by the square root of the number of trading days in a year to get annualized volatility\n",
    "standard_deviation = original_returns.std().sort_values(ascending=False) * np.sqrt(252)\n",
    "standard_deviation"
   ]
  },
  {
   "cell_type": "markdown",
   "metadata": {},
   "source": [
    "### Drop High Volatility Stocks"
   ]
  },
  {
   "cell_type": "code",
   "execution_count": 5,
   "metadata": {},
   "outputs": [
    {
     "data": {
      "text/html": [
       "<div>\n",
       "<style scoped>\n",
       "    .dataframe tbody tr th:only-of-type {\n",
       "        vertical-align: middle;\n",
       "    }\n",
       "\n",
       "    .dataframe tbody tr th {\n",
       "        vertical-align: top;\n",
       "    }\n",
       "\n",
       "    .dataframe thead th {\n",
       "        text-align: right;\n",
       "    }\n",
       "</style>\n",
       "<table border=\"1\" class=\"dataframe\">\n",
       "  <thead>\n",
       "    <tr style=\"text-align: right;\">\n",
       "      <th></th>\n",
       "      <th>SBUX</th>\n",
       "      <th>JNJ</th>\n",
       "      <th>T</th>\n",
       "      <th>BK</th>\n",
       "      <th>NKE</th>\n",
       "    </tr>\n",
       "    <tr>\n",
       "      <th>date</th>\n",
       "      <th></th>\n",
       "      <th></th>\n",
       "      <th></th>\n",
       "      <th></th>\n",
       "      <th></th>\n",
       "    </tr>\n",
       "  </thead>\n",
       "  <tbody>\n",
       "    <tr>\n",
       "      <th>2015-06-25</th>\n",
       "      <td>0.006703</td>\n",
       "      <td>-0.002114</td>\n",
       "      <td>0.011179</td>\n",
       "      <td>-0.010164</td>\n",
       "      <td>-0.009414</td>\n",
       "    </tr>\n",
       "    <tr>\n",
       "      <th>2015-06-26</th>\n",
       "      <td>0.010172</td>\n",
       "      <td>0.005246</td>\n",
       "      <td>-0.001658</td>\n",
       "      <td>0.003034</td>\n",
       "      <td>0.042672</td>\n",
       "    </tr>\n",
       "    <tr>\n",
       "      <th>2015-06-29</th>\n",
       "      <td>-0.019590</td>\n",
       "      <td>-0.019671</td>\n",
       "      <td>-0.009690</td>\n",
       "      <td>-0.027687</td>\n",
       "      <td>-0.018594</td>\n",
       "    </tr>\n",
       "    <tr>\n",
       "      <th>2015-06-30</th>\n",
       "      <td>0.001214</td>\n",
       "      <td>-0.002252</td>\n",
       "      <td>-0.006989</td>\n",
       "      <td>0.004307</td>\n",
       "      <td>0.003251</td>\n",
       "    </tr>\n",
       "    <tr>\n",
       "      <th>2015-07-01</th>\n",
       "      <td>0.005129</td>\n",
       "      <td>0.010363</td>\n",
       "      <td>0.001408</td>\n",
       "      <td>0.005004</td>\n",
       "      <td>0.013053</td>\n",
       "    </tr>\n",
       "  </tbody>\n",
       "</table>\n",
       "</div>"
      ],
      "text/plain": [
       "                SBUX       JNJ         T        BK       NKE\n",
       "date                                                        \n",
       "2015-06-25  0.006703 -0.002114  0.011179 -0.010164 -0.009414\n",
       "2015-06-26  0.010172  0.005246 -0.001658  0.003034  0.042672\n",
       "2015-06-29 -0.019590 -0.019671 -0.009690 -0.027687 -0.018594\n",
       "2015-06-30  0.001214 -0.002252 -0.006989  0.004307  0.003251\n",
       "2015-07-01  0.005129  0.010363  0.001408  0.005004  0.013053"
      ]
     },
     "execution_count": 5,
     "metadata": {},
     "output_type": "execute_result"
    }
   ],
   "source": [
    "# Drop the five stocks with the highest volatility in daily returns\n",
    "low_volitility_returns = original_returns.drop(columns=standard_deviation.index[:5])\n",
    "low_volitility_returns.head()"
   ]
  },
  {
   "cell_type": "markdown",
   "metadata": {},
   "source": [
    "### Set Portfolio Allocations/Weights and Calculate Portfolio Daily Returns"
   ]
  },
  {
   "cell_type": "code",
   "execution_count": 6,
   "metadata": {},
   "outputs": [
    {
     "data": {
      "text/plain": [
       "date\n",
       "2015-06-25   -0.000762\n",
       "2015-06-26    0.011893\n",
       "2015-06-29   -0.019046\n",
       "2015-06-30   -0.000094\n",
       "2015-07-01    0.006991\n",
       "dtype: float64"
      ]
     },
     "execution_count": 6,
     "metadata": {},
     "output_type": "execute_result"
    }
   ],
   "source": [
    "# Set weights for corresponding risk profile of stocks, use the `dot` function to sum the product each weight and the corresponding stock daily return\n",
    "# BK, LUV, NKE, SBUX, T\n",
    "weights = [0.2, 0.2, 0.2, 0.2, 0.2]\n",
    "low_volitility_portfolio_returns = low_volitility_returns.dot(weights)\n",
    "low_volitility_portfolio_returns.head()"
   ]
  },
  {
   "cell_type": "markdown",
   "metadata": {},
   "source": [
    "### Calculate Cumulative Returns"
   ]
  },
  {
   "cell_type": "code",
   "execution_count": 7,
   "metadata": {},
   "outputs": [
    {
     "data": {
      "text/plain": [
       "date\n",
       "2015-06-25    0.999238\n",
       "2015-06-26    1.011122\n",
       "2015-06-29    0.991864\n",
       "2015-06-30    0.991771\n",
       "2015-07-01    0.998704\n",
       "dtype: float64"
      ]
     },
     "execution_count": 7,
     "metadata": {},
     "output_type": "execute_result"
    }
   ],
   "source": [
    "# Use the `cumprod` function to calculate cumulative returns\n",
    "cumulative_returns = (1 + low_volitility_portfolio_returns).cumprod()\n",
    "cumulative_returns.head()"
   ]
  },
  {
   "cell_type": "markdown",
   "metadata": {},
   "source": [
    "### Plot Return of Portfolio Starting with Initial Investment of `$10,000`"
   ]
  },
  {
   "cell_type": "code",
   "execution_count": 8,
   "metadata": {},
   "outputs": [
    {
     "data": {
      "text/plain": [
       "<matplotlib.axes._subplots.AxesSubplot at 0x1a167d4f50>"
      ]
     },
     "execution_count": 8,
     "metadata": {},
     "output_type": "execute_result"
    },
    {
     "data": {
      "image/png": "[encoded data removed]",
      "text/plain": [
       "<Figure size 432x288 with 1 Axes>"
      ]
     },
     "metadata": {
      "needs_background": "light"
     },
     "output_type": "display_data"
    }
   ],
   "source": [
    "# Plot the returns of the portfolio in terms of money\n",
    "(10000 * cumulative_returns).plot()"
   ]
  },
  {
   "cell_type": "markdown",
   "metadata": {},
   "source": [
    "### PART 2: Portfolio Optimization via Correlation and Return-to-risk (sharpe ratio) Evaluations"
   ]
  },
  {
   "cell_type": "markdown",
   "metadata": {},
   "source": [
    "### Evaluate Correlation of Stock Returns"
   ]
  },
  {
   "cell_type": "code",
   "execution_count": 9,
   "metadata": {},
   "outputs": [
    {
     "data": {
      "text/html": [
       "<div>\n",
       "<style scoped>\n",
       "    .dataframe tbody tr th:only-of-type {\n",
       "        vertical-align: middle;\n",
       "    }\n",
       "\n",
       "    .dataframe tbody tr th {\n",
       "        vertical-align: top;\n",
       "    }\n",
       "\n",
       "    .dataframe thead th {\n",
       "        text-align: right;\n",
       "    }\n",
       "</style>\n",
       "<table border=\"1\" class=\"dataframe\">\n",
       "  <thead>\n",
       "    <tr style=\"text-align: right;\">\n",
       "      <th></th>\n",
       "      <th>WRK</th>\n",
       "      <th>MU</th>\n",
       "      <th>SBUX</th>\n",
       "      <th>FANG</th>\n",
       "      <th>JNJ</th>\n",
       "      <th>WDC</th>\n",
       "      <th>T</th>\n",
       "      <th>BK</th>\n",
       "      <th>LUV</th>\n",
       "      <th>NKE</th>\n",
       "    </tr>\n",
       "  </thead>\n",
       "  <tbody>\n",
       "    <tr>\n",
       "      <th>WRK</th>\n",
       "      <td>1.000000</td>\n",
       "      <td>0.405658</td>\n",
       "      <td>0.303981</td>\n",
       "      <td>0.294395</td>\n",
       "      <td>0.295180</td>\n",
       "      <td>0.397666</td>\n",
       "      <td>0.281383</td>\n",
       "      <td>0.473280</td>\n",
       "      <td>0.294395</td>\n",
       "      <td>0.271221</td>\n",
       "    </tr>\n",
       "    <tr>\n",
       "      <th>MU</th>\n",
       "      <td>0.405658</td>\n",
       "      <td>1.000000</td>\n",
       "      <td>0.247012</td>\n",
       "      <td>0.257745</td>\n",
       "      <td>0.173480</td>\n",
       "      <td>0.609577</td>\n",
       "      <td>0.174143</td>\n",
       "      <td>0.339511</td>\n",
       "      <td>0.296751</td>\n",
       "      <td>0.196334</td>\n",
       "    </tr>\n",
       "    <tr>\n",
       "      <th>SBUX</th>\n",
       "      <td>0.303981</td>\n",
       "      <td>0.247012</td>\n",
       "      <td>1.000000</td>\n",
       "      <td>0.211182</td>\n",
       "      <td>0.366453</td>\n",
       "      <td>0.281220</td>\n",
       "      <td>0.238597</td>\n",
       "      <td>0.361186</td>\n",
       "      <td>0.314467</td>\n",
       "      <td>0.398614</td>\n",
       "    </tr>\n",
       "    <tr>\n",
       "      <th>FANG</th>\n",
       "      <td>0.294395</td>\n",
       "      <td>0.257745</td>\n",
       "      <td>0.211182</td>\n",
       "      <td>1.000000</td>\n",
       "      <td>0.221352</td>\n",
       "      <td>0.259662</td>\n",
       "      <td>0.186524</td>\n",
       "      <td>0.316856</td>\n",
       "      <td>0.169883</td>\n",
       "      <td>0.228170</td>\n",
       "    </tr>\n",
       "    <tr>\n",
       "      <th>JNJ</th>\n",
       "      <td>0.295180</td>\n",
       "      <td>0.173480</td>\n",
       "      <td>0.366453</td>\n",
       "      <td>0.221352</td>\n",
       "      <td>1.000000</td>\n",
       "      <td>0.223365</td>\n",
       "      <td>0.343575</td>\n",
       "      <td>0.350064</td>\n",
       "      <td>0.248263</td>\n",
       "      <td>0.297197</td>\n",
       "    </tr>\n",
       "  </tbody>\n",
       "</table>\n",
       "</div>"
      ],
      "text/plain": [
       "           WRK        MU      SBUX      FANG       JNJ       WDC         T  \\\n",
       "WRK   1.000000  0.405658  0.303981  0.294395  0.295180  0.397666  0.281383   \n",
       "MU    0.405658  1.000000  0.247012  0.257745  0.173480  0.609577  0.174143   \n",
       "SBUX  0.303981  0.247012  1.000000  0.211182  0.366453  0.281220  0.238597   \n",
       "FANG  0.294395  0.257745  0.211182  1.000000  0.221352  0.259662  0.186524   \n",
       "JNJ   0.295180  0.173480  0.366453  0.221352  1.000000  0.223365  0.343575   \n",
       "\n",
       "            BK       LUV       NKE  \n",
       "WRK   0.473280  0.294395  0.271221  \n",
       "MU    0.339511  0.296751  0.196334  \n",
       "SBUX  0.361186  0.314467  0.398614  \n",
       "FANG  0.316856  0.169883  0.228170  \n",
       "JNJ   0.350064  0.248263  0.297197  "
      ]
     },
     "execution_count": 9,
     "metadata": {},
     "output_type": "execute_result"
    }
   ],
   "source": [
    "# Use the `corr` function to calculate the correlation between stock returns\n",
    "correlation = original_returns.corr()\n",
    "correlation.head()"
   ]
  },
  {
   "cell_type": "code",
   "execution_count": 10,
   "metadata": {},
   "outputs": [
    {
     "data": {
      "text/plain": [
       "<matplotlib.axes._subplots.AxesSubplot at 0x1a1689e550>"
      ]
     },
     "execution_count": 10,
     "metadata": {},
     "output_type": "execute_result"
    },
    {
     "data": {
      "image/png": "[encoded data removed]",
      "text/plain": [
       "<Figure size 432x288 with 2 Axes>"
      ]
     },
     "metadata": {
      "needs_background": "light"
     },
     "output_type": "display_data"
    }
   ],
   "source": [
    "# Use the `heatmap` function from the Seaborn library to visualize the correlation table\n",
    "sns.heatmap(correlation, vmin=-1, vmax=1, cmap='coolwarm')"
   ]
  },
  {
   "cell_type": "markdown",
   "metadata": {},
   "source": [
    "### Drop the Two Most Consistently Correlated Stocks"
   ]
  },
  {
   "cell_type": "code",
   "execution_count": 11,
   "metadata": {},
   "outputs": [
    {
     "data": {
      "text/plain": [
       "BK      0.424213\n",
       "WRK     0.401716\n",
       "WDC     0.381491\n",
       "SBUX    0.372271\n",
       "MU      0.370021\n",
       "JNJ     0.351893\n",
       "NKE     0.351271\n",
       "LUV     0.349486\n",
       "FANG    0.314577\n",
       "T       0.312318\n",
       "dtype: float64"
      ]
     },
     "execution_count": 11,
     "metadata": {},
     "output_type": "execute_result"
    }
   ],
   "source": [
    "correlation_mean = correlation.mean().sort_values(ascending=False)\n",
    "correlation_mean"
   ]
  },
  {
   "cell_type": "code",
   "execution_count": 12,
   "metadata": {},
   "outputs": [
    {
     "data": {
      "text/html": [
       "<div>\n",
       "<style scoped>\n",
       "    .dataframe tbody tr th:only-of-type {\n",
       "        vertical-align: middle;\n",
       "    }\n",
       "\n",
       "    .dataframe tbody tr th {\n",
       "        vertical-align: top;\n",
       "    }\n",
       "\n",
       "    .dataframe thead th {\n",
       "        text-align: right;\n",
       "    }\n",
       "</style>\n",
       "<table border=\"1\" class=\"dataframe\">\n",
       "  <thead>\n",
       "    <tr style=\"text-align: right;\">\n",
       "      <th></th>\n",
       "      <th>MU</th>\n",
       "      <th>SBUX</th>\n",
       "      <th>FANG</th>\n",
       "      <th>JNJ</th>\n",
       "      <th>WDC</th>\n",
       "      <th>T</th>\n",
       "      <th>LUV</th>\n",
       "      <th>NKE</th>\n",
       "    </tr>\n",
       "    <tr>\n",
       "      <th>date</th>\n",
       "      <th></th>\n",
       "      <th></th>\n",
       "      <th></th>\n",
       "      <th></th>\n",
       "      <th></th>\n",
       "      <th></th>\n",
       "      <th></th>\n",
       "      <th></th>\n",
       "    </tr>\n",
       "  </thead>\n",
       "  <tbody>\n",
       "    <tr>\n",
       "      <th>2015-06-25</th>\n",
       "      <td>-0.001663</td>\n",
       "      <td>0.006703</td>\n",
       "      <td>-0.020139</td>\n",
       "      <td>-0.002114</td>\n",
       "      <td>-0.020290</td>\n",
       "      <td>0.011179</td>\n",
       "      <td>0.004076</td>\n",
       "      <td>-0.009414</td>\n",
       "    </tr>\n",
       "    <tr>\n",
       "      <th>2015-06-26</th>\n",
       "      <td>-0.181515</td>\n",
       "      <td>0.010172</td>\n",
       "      <td>-0.014923</td>\n",
       "      <td>0.005246</td>\n",
       "      <td>-0.017452</td>\n",
       "      <td>-0.001658</td>\n",
       "      <td>-0.004929</td>\n",
       "      <td>0.042672</td>\n",
       "    </tr>\n",
       "    <tr>\n",
       "      <th>2015-06-29</th>\n",
       "      <td>-0.047304</td>\n",
       "      <td>-0.019590</td>\n",
       "      <td>-0.001196</td>\n",
       "      <td>-0.019671</td>\n",
       "      <td>-0.029485</td>\n",
       "      <td>-0.009690</td>\n",
       "      <td>-0.033217</td>\n",
       "      <td>-0.018594</td>\n",
       "    </tr>\n",
       "    <tr>\n",
       "      <th>2015-06-30</th>\n",
       "      <td>0.005873</td>\n",
       "      <td>0.001214</td>\n",
       "      <td>0.002927</td>\n",
       "      <td>-0.002252</td>\n",
       "      <td>-0.043192</td>\n",
       "      <td>-0.006989</td>\n",
       "      <td>-0.002712</td>\n",
       "      <td>0.003251</td>\n",
       "    </tr>\n",
       "    <tr>\n",
       "      <th>2015-07-01</th>\n",
       "      <td>-0.003185</td>\n",
       "      <td>0.005129</td>\n",
       "      <td>-0.033961</td>\n",
       "      <td>0.010363</td>\n",
       "      <td>0.013007</td>\n",
       "      <td>0.001408</td>\n",
       "      <td>-0.014204</td>\n",
       "      <td>0.013053</td>\n",
       "    </tr>\n",
       "  </tbody>\n",
       "</table>\n",
       "</div>"
      ],
      "text/plain": [
       "                  MU      SBUX      FANG       JNJ       WDC         T  \\\n",
       "date                                                                     \n",
       "2015-06-25 -0.001663  0.006703 -0.020139 -0.002114 -0.020290  0.011179   \n",
       "2015-06-26 -0.181515  0.010172 -0.014923  0.005246 -0.017452 -0.001658   \n",
       "2015-06-29 -0.047304 -0.019590 -0.001196 -0.019671 -0.029485 -0.009690   \n",
       "2015-06-30  0.005873  0.001214  0.002927 -0.002252 -0.043192 -0.006989   \n",
       "2015-07-01 -0.003185  0.005129 -0.033961  0.010363  0.013007  0.001408   \n",
       "\n",
       "                 LUV       NKE  \n",
       "date                            \n",
       "2015-06-25  0.004076 -0.009414  \n",
       "2015-06-26 -0.004929  0.042672  \n",
       "2015-06-29 -0.033217 -0.018594  \n",
       "2015-06-30 -0.002712  0.003251  \n",
       "2015-07-01 -0.014204  0.013053  "
      ]
     },
     "execution_count": 12,
     "metadata": {},
     "output_type": "execute_result"
    }
   ],
   "source": [
    "# Drop highly correlated stocks and keep only the non-correlated stocks\n",
    "non_correlation_returns = original_returns.drop(columns=correlation_mean.index[:2])\n",
    "non_correlation_returns.head()"
   ]
  },
  {
   "cell_type": "markdown",
   "metadata": {},
   "source": [
    "### Evaluate Reward-to-Risk (Sharpe Ratio) of Minimally-Correlated Stocks"
   ]
  },
  {
   "cell_type": "code",
   "execution_count": 13,
   "metadata": {},
   "outputs": [
    {
     "data": {
      "text/plain": [
       "WDC    -0.245731\n",
       "T      -0.050216\n",
       "FANG    0.421266\n",
       "MU      0.435027\n",
       "LUV     0.520850\n",
       "SBUX    0.545402\n",
       "NKE     0.585923\n",
       "JNJ     0.609743\n",
       "dtype: float64"
      ]
     },
     "execution_count": 13,
     "metadata": {},
     "output_type": "execute_result"
    }
   ],
   "source": [
    "# Use the `mean` and `std` functions to calculate the annualized sharpe ratio\n",
    "sharpe_ratios = (non_correlation_returns.mean() * np.sqrt(252) / non_correlation_returns.std()).sort_values()\n",
    "sharpe_ratios"
   ]
  },
  {
   "cell_type": "markdown",
   "metadata": {},
   "source": [
    "### Drop the Three Lowest Sharpe Ratio Stocks"
   ]
  },
  {
   "cell_type": "code",
   "execution_count": 14,
   "metadata": {},
   "outputs": [
    {
     "data": {
      "text/html": [
       "<div>\n",
       "<style scoped>\n",
       "    .dataframe tbody tr th:only-of-type {\n",
       "        vertical-align: middle;\n",
       "    }\n",
       "\n",
       "    .dataframe tbody tr th {\n",
       "        vertical-align: top;\n",
       "    }\n",
       "\n",
       "    .dataframe thead th {\n",
       "        text-align: right;\n",
       "    }\n",
       "</style>\n",
       "<table border=\"1\" class=\"dataframe\">\n",
       "  <thead>\n",
       "    <tr style=\"text-align: right;\">\n",
       "      <th></th>\n",
       "      <th>MU</th>\n",
       "      <th>SBUX</th>\n",
       "      <th>JNJ</th>\n",
       "      <th>LUV</th>\n",
       "      <th>NKE</th>\n",
       "    </tr>\n",
       "    <tr>\n",
       "      <th>date</th>\n",
       "      <th></th>\n",
       "      <th></th>\n",
       "      <th></th>\n",
       "      <th></th>\n",
       "      <th></th>\n",
       "    </tr>\n",
       "  </thead>\n",
       "  <tbody>\n",
       "    <tr>\n",
       "      <th>2015-06-25</th>\n",
       "      <td>-0.001663</td>\n",
       "      <td>0.006703</td>\n",
       "      <td>-0.002114</td>\n",
       "      <td>0.004076</td>\n",
       "      <td>-0.009414</td>\n",
       "    </tr>\n",
       "    <tr>\n",
       "      <th>2015-06-26</th>\n",
       "      <td>-0.181515</td>\n",
       "      <td>0.010172</td>\n",
       "      <td>0.005246</td>\n",
       "      <td>-0.004929</td>\n",
       "      <td>0.042672</td>\n",
       "    </tr>\n",
       "    <tr>\n",
       "      <th>2015-06-29</th>\n",
       "      <td>-0.047304</td>\n",
       "      <td>-0.019590</td>\n",
       "      <td>-0.019671</td>\n",
       "      <td>-0.033217</td>\n",
       "      <td>-0.018594</td>\n",
       "    </tr>\n",
       "    <tr>\n",
       "      <th>2015-06-30</th>\n",
       "      <td>0.005873</td>\n",
       "      <td>0.001214</td>\n",
       "      <td>-0.002252</td>\n",
       "      <td>-0.002712</td>\n",
       "      <td>0.003251</td>\n",
       "    </tr>\n",
       "    <tr>\n",
       "      <th>2015-07-01</th>\n",
       "      <td>-0.003185</td>\n",
       "      <td>0.005129</td>\n",
       "      <td>0.010363</td>\n",
       "      <td>-0.014204</td>\n",
       "      <td>0.013053</td>\n",
       "    </tr>\n",
       "  </tbody>\n",
       "</table>\n",
       "</div>"
      ],
      "text/plain": [
       "                  MU      SBUX       JNJ       LUV       NKE\n",
       "date                                                        \n",
       "2015-06-25 -0.001663  0.006703 -0.002114  0.004076 -0.009414\n",
       "2015-06-26 -0.181515  0.010172  0.005246 -0.004929  0.042672\n",
       "2015-06-29 -0.047304 -0.019590 -0.019671 -0.033217 -0.018594\n",
       "2015-06-30  0.005873  0.001214 -0.002252 -0.002712  0.003251\n",
       "2015-07-01 -0.003185  0.005129  0.010363 -0.014204  0.013053"
      ]
     },
     "execution_count": 14,
     "metadata": {},
     "output_type": "execute_result"
    }
   ],
   "source": [
    "# Drop the lowest sharpe ratio stocks and keep only the postive sharpe ratio stocks\n",
    "optimized_returns = non_correlation_returns.drop(columns=sharpe_ratios.index[:3])\n",
    "optimized_returns.head()"
   ]
  },
  {
   "cell_type": "markdown",
   "metadata": {},
   "source": [
    "### Overlay Hypothetical Portfolio Investments"
   ]
  },
  {
   "cell_type": "code",
   "execution_count": 15,
   "metadata": {},
   "outputs": [
    {
     "data": {
      "image/png": "[encoded data removed]",
      "text/plain": [
       "<Figure size 1008x720 with 1 Axes>"
      ]
     },
     "metadata": {
      "needs_background": "light"
     },
     "output_type": "display_data"
    }
   ],
   "source": [
    "# Set the figure of the chart and plot each data trend on the single figure\n",
    "df_dict = {'original_returns' : original_returns, \n",
    "           'low_volitility_returns' : low_volitility_returns, \n",
    "           'non_correlation_returns' : non_correlation_returns, \n",
    "           'optimized_returns': optimized_returns}\n",
    "\n",
    "fig, ax = plt.subplots(figsize=(14, 10))\n",
    "\n",
    "for k, v in df_dict.items():\n",
    "    number_of_rows = v.shape[1]\n",
    "    weights = [1/number_of_rows] * number_of_rows\n",
    "    portfolio_return = v.dot(weights)\n",
    "    cumulative_return = 10000 * (1 + portfolio_return).cumprod()\n",
    "    cumulative_return.plot(ax=ax, label=k, legend=True)"
   ]
  },
  {
   "cell_type": "code",
   "execution_count": null,
   "metadata": {},
   "outputs": [],
   "source": []
  }
 ],
 "metadata": {
  "kernelspec": {
   "display_name": "Python 3",
   "language": "python",
   "name": "python3"
  },
  "language_info": {
   "codemirror_mode": {
    "name": "ipython",
    "version": 3
   },
   "file_extension": ".py",
   "mimetype": "text/x-python",
   "name": "python",
   "nbconvert_exporter": "python",
   "pygments_lexer": "ipython3",
   "version": "3.7.7"
  }
 },
 "nbformat": 4,
 "nbformat_minor": 4
}
