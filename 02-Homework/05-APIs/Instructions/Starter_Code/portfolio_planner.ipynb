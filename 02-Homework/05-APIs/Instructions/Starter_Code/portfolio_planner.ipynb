{
 "cells": [
  {
   "cell_type": "markdown",
   "metadata": {},
   "source": [
    "# Retirement Planner\n",
    "\n",
    "---\n",
    "\n",
    "## Environment Setup"
   ]
  },
  {
   "cell_type": "code",
   "execution_count": 1,
   "metadata": {},
   "outputs": [],
   "source": [
    "# Import libraries and dependencies\n",
    "import numpy as np\n",
    "import pandas as pd\n",
    "import os\n",
    "from datetime import datetime, timedelta\n",
    "import matplotlib.pyplot as plt\n",
    "import alpaca_trade_api as tradeapi\n",
    "%matplotlib inline"
   ]
  },
  {
   "cell_type": "code",
   "execution_count": 2,
   "metadata": {},
   "outputs": [],
   "source": [
    "# Set the random seed for resutls reproducibility (for testing purposes only)\n",
    "np.random.seed(42)"
   ]
  },
  {
   "cell_type": "markdown",
   "metadata": {},
   "source": [
    "---\n",
    "\n",
    "## Portfolio Planner\n",
    "\n",
    "In this activity, you will use the Alpaca API to grab historical data for a `60/40` portfolio using `SPY` to represent the stock portion and `AGG` to represent the bonds."
   ]
  },
  {
   "cell_type": "code",
   "execution_count": 3,
   "metadata": {},
   "outputs": [],
   "source": [
    "# Load .env enviroment variables\n",
    "from dotenv import load_dotenv\n",
    "load_dotenv()\n",
    "\n",
    "# Set Alpaca API key and secret\n",
    "alpaca_api_key = os.getenv(\"ALPACA_API_KEY\")\n",
    "alpaca_secret_key = os.getenv(\"ALPACA_SECRET_KEY\")\n",
    "\n",
    "# Create the Alpaca API object\n",
    "api = tradeapi.REST(\n",
    "    alpaca_api_key,\n",
    "    alpaca_secret_key,\n",
    "    api_version=\"v2\")"
   ]
  },
  {
   "cell_type": "markdown",
   "metadata": {},
   "source": [
    "# Data Collection\n",
    "\n",
    "In this step, you will need to use the Alpaca api to fetch closing prices for the `SPY` and `AGG` tickers. Save the results as a pandas DataFrame"
   ]
  },
  {
   "cell_type": "code",
   "execution_count": 4,
   "metadata": {},
   "outputs": [],
   "source": [
    "# Subset your tickers, then pull returns data:\n",
    "# Set the ticker\n",
    "ticker = [\"SPY\", \"AGG\"]\n",
    "\n",
    "# Set timeframe to '1D'\n",
    "timeframe = \"1D\"\n",
    "\n",
    "# Set start and end datetimes of 1 year, between now and 365 days ago.\n",
    "start_date = pd.Timestamp('2019-01-01', tz='America/New_York').isoformat()\n",
    "end_date = pd.Timestamp('2019-12-31', tz='America/New_York').isoformat()\n",
    "\n",
    "# Get 1 year's worth of historical data for SPY and AGG\n",
    "df = api.get_barset(\n",
    "    ticker,\n",
    "    timeframe,\n",
    "    limit=None,\n",
    "    start=start_date,\n",
    "    end=end_date,\n",
    "    after=None,\n",
    "    until=None,\n",
    ").df\n",
    "\n",
    "# Drop unnecessary columns\n",
    "df = df.drop(\n",
    "    columns=['open', 'high', 'low', 'volume'],\n",
    "    level=1\n",
    ")"
   ]
  },
  {
   "cell_type": "code",
   "execution_count": 5,
   "metadata": {},
   "outputs": [
    {
     "data": {
      "text/html": [
       "<div>\n",
       "<style scoped>\n",
       "    .dataframe tbody tr th:only-of-type {\n",
       "        vertical-align: middle;\n",
       "    }\n",
       "\n",
       "    .dataframe tbody tr th {\n",
       "        vertical-align: top;\n",
       "    }\n",
       "\n",
       "    .dataframe thead tr th {\n",
       "        text-align: left;\n",
       "    }\n",
       "</style>\n",
       "<table border=\"1\" class=\"dataframe\">\n",
       "  <thead>\n",
       "    <tr>\n",
       "      <th></th>\n",
       "      <th>AGG</th>\n",
       "      <th>SPY</th>\n",
       "    </tr>\n",
       "    <tr>\n",
       "      <th></th>\n",
       "      <th>close</th>\n",
       "      <th>close</th>\n",
       "    </tr>\n",
       "  </thead>\n",
       "  <tbody>\n",
       "    <tr>\n",
       "      <th>2019-01-02 00:00:00-05:00</th>\n",
       "      <td>106.585</td>\n",
       "      <td>249.89</td>\n",
       "    </tr>\n",
       "    <tr>\n",
       "      <th>2019-01-03 00:00:00-05:00</th>\n",
       "      <td>107.020</td>\n",
       "      <td>244.46</td>\n",
       "    </tr>\n",
       "    <tr>\n",
       "      <th>2019-01-04 00:00:00-05:00</th>\n",
       "      <td>106.695</td>\n",
       "      <td>252.41</td>\n",
       "    </tr>\n",
       "    <tr>\n",
       "      <th>2019-01-07 00:00:00-05:00</th>\n",
       "      <td>106.470</td>\n",
       "      <td>254.40</td>\n",
       "    </tr>\n",
       "    <tr>\n",
       "      <th>2019-01-08 00:00:00-05:00</th>\n",
       "      <td>106.420</td>\n",
       "      <td>256.65</td>\n",
       "    </tr>\n",
       "  </tbody>\n",
       "</table>\n",
       "</div>"
      ],
      "text/plain": [
       "                               AGG     SPY\n",
       "                             close   close\n",
       "2019-01-02 00:00:00-05:00  106.585  249.89\n",
       "2019-01-03 00:00:00-05:00  107.020  244.46\n",
       "2019-01-04 00:00:00-05:00  106.695  252.41\n",
       "2019-01-07 00:00:00-05:00  106.470  254.40\n",
       "2019-01-08 00:00:00-05:00  106.420  256.65"
      ]
     },
     "execution_count": 5,
     "metadata": {},
     "output_type": "execute_result"
    }
   ],
   "source": [
    "# Display sample data\n",
    "df.head()"
   ]
  },
  {
   "cell_type": "markdown",
   "metadata": {},
   "source": [
    "---\n",
    "\n",
    "## Monte Carlo Simulation\n",
    "\n",
    "In this step, you will run Monte Carlo Simulations for your portfolio to model portfolio performance at different retirement ages. \n",
    "\n",
    "Complete the following steps:\n",
    "\n",
    "1. Calculate the daily returns for the SPY and AGG closing prices.\n",
    "\n",
    "2. Calculate volatility for both the SPY and AGG closing prices.\n",
    "\n",
    "3. Find the last day's closing price for both stocks and save those as variables\n",
    "\n",
    "4. Run a Monte Carlo Simulation of at least `100` iterations and generate at least `30` years of closing prices\n",
    "\n",
    "**Hint:** There are `252` trading days per year, so the number of records to generate for each Monte Carlo run will be `252 days * 30 years`."
   ]
  },
  {
   "cell_type": "code",
   "execution_count": 6,
   "metadata": {},
   "outputs": [
    {
     "data": {
      "text/html": [
       "<div>\n",
       "<style scoped>\n",
       "    .dataframe tbody tr th:only-of-type {\n",
       "        vertical-align: middle;\n",
       "    }\n",
       "\n",
       "    .dataframe tbody tr th {\n",
       "        vertical-align: top;\n",
       "    }\n",
       "\n",
       "    .dataframe thead tr th {\n",
       "        text-align: left;\n",
       "    }\n",
       "</style>\n",
       "<table border=\"1\" class=\"dataframe\">\n",
       "  <thead>\n",
       "    <tr>\n",
       "      <th></th>\n",
       "      <th>AGG</th>\n",
       "      <th>SPY</th>\n",
       "    </tr>\n",
       "    <tr>\n",
       "      <th></th>\n",
       "      <th>close</th>\n",
       "      <th>close</th>\n",
       "    </tr>\n",
       "  </thead>\n",
       "  <tbody>\n",
       "    <tr>\n",
       "      <th>2019-01-03 00:00:00-05:00</th>\n",
       "      <td>0.004081</td>\n",
       "      <td>-0.021730</td>\n",
       "    </tr>\n",
       "    <tr>\n",
       "      <th>2019-01-04 00:00:00-05:00</th>\n",
       "      <td>-0.003037</td>\n",
       "      <td>0.032521</td>\n",
       "    </tr>\n",
       "    <tr>\n",
       "      <th>2019-01-07 00:00:00-05:00</th>\n",
       "      <td>-0.002109</td>\n",
       "      <td>0.007884</td>\n",
       "    </tr>\n",
       "    <tr>\n",
       "      <th>2019-01-08 00:00:00-05:00</th>\n",
       "      <td>-0.000470</td>\n",
       "      <td>0.008844</td>\n",
       "    </tr>\n",
       "    <tr>\n",
       "      <th>2019-01-09 00:00:00-05:00</th>\n",
       "      <td>0.000564</td>\n",
       "      <td>0.004130</td>\n",
       "    </tr>\n",
       "  </tbody>\n",
       "</table>\n",
       "</div>"
      ],
      "text/plain": [
       "                                AGG       SPY\n",
       "                              close     close\n",
       "2019-01-03 00:00:00-05:00  0.004081 -0.021730\n",
       "2019-01-04 00:00:00-05:00 -0.003037  0.032521\n",
       "2019-01-07 00:00:00-05:00 -0.002109  0.007884\n",
       "2019-01-08 00:00:00-05:00 -0.000470  0.008844\n",
       "2019-01-09 00:00:00-05:00  0.000564  0.004130"
      ]
     },
     "execution_count": 6,
     "metadata": {},
     "output_type": "execute_result"
    }
   ],
   "source": [
    "# Calculate the daily roi for the stocks\n",
    "daily_returns = df.pct_change()\n",
    "\n",
    "# Display sample data\n",
    "daily_returns = daily_returns.dropna()\n",
    "daily_returns.head()\n"
   ]
  },
  {
   "cell_type": "code",
   "execution_count": 7,
   "metadata": {},
   "outputs": [
    {
     "name": "stdout",
     "output_type": "stream",
     "text": [
      "AGG  close    0.033156\n",
      "SPY  close    0.124139\n",
      "dtype: float64\n"
     ]
    }
   ],
   "source": [
    "# Compute daily volatility\n",
    "volatility = daily_returns.std()*(252**0.5)\n",
    "\n",
    "print(volatility)"
   ]
  },
  {
   "cell_type": "code",
   "execution_count": 8,
   "metadata": {},
   "outputs": [],
   "source": [
    "# Save the last day's closing price\n",
    "agg_last_price = df['AGG']['close'][-1]\n",
    "spy_last_price = df['SPY']['close'][-1]"
   ]
  },
  {
   "cell_type": "code",
   "execution_count": 31,
   "metadata": {},
   "outputs": [],
   "source": [
    "# Setup the Monte Carlo Parameters\n",
    "number_simulations = 500\n",
    "number_records = 252 * 30\n",
    "monte_carlo = pd.DataFrame()"
   ]
  },
  {
   "cell_type": "code",
   "execution_count": 32,
   "metadata": {},
   "outputs": [
    {
     "name": "stdout",
     "output_type": "stream",
     "text": [
      "0.0010401250682146959\n",
      "0.00021276976507473064\n"
     ]
    }
   ],
   "source": [
    "avg_daily_return_agg = daily_returns.mean()['AGG']['close']\n",
    "avg_daily_return_spy = daily_returns.mean()['SPY']['close']\n",
    "print(avg_daily_return_spy)\n",
    "print(avg_daily_return_agg)"
   ]
  },
  {
   "cell_type": "code",
   "execution_count": 33,
   "metadata": {},
   "outputs": [
    {
     "name": "stdout",
     "output_type": "stream",
     "text": [
      "0.0020886019741764646\n",
      "0.007820053413439366\n"
     ]
    }
   ],
   "source": [
    "std_dev_daily_return_agg = daily_returns.std()['AGG']['close']\n",
    "std_dev_daily_return_spy = daily_returns.std()['SPY']['close']\n",
    "print(std_dev_daily_return_agg)\n",
    "print(std_dev_daily_return_spy)"
   ]
  },
  {
   "cell_type": "code",
   "execution_count": 34,
   "metadata": {},
   "outputs": [],
   "source": [
    "# Run the Monte Carlo Simulation\n",
    "simulated_price_df = pd.DataFrame()\n",
    "portfolio_cumulative_returns = pd.DataFrame()\n",
    "\n",
    "for n in range(number_simulations):\n",
    "    simulated_agg_prices = [agg_last_price]\n",
    "    simulated_spy_prices = [spy_last_price]\n",
    "    for i in range(number_records):\n",
    "        simulated_agg_price = simulated_agg_prices[-1] * (1 + np.random.normal(avg_daily_return_agg, std_dev_daily_return_agg))\n",
    "        simulated_spy_price = simulated_spy_prices[-1] * (1 + np.random.normal(avg_daily_return_spy, std_dev_daily_return_spy))\n",
    "        \n",
    "        simulated_agg_prices.append(simulated_agg_price)\n",
    "        simulated_spy_prices.append(simulated_spy_price)\n",
    "\n",
    "    simulated_price_df[\"AGG prices\"] = pd.Series(simulated_agg_prices)\n",
    "    simulated_price_df[\"SPY prices\"] = pd.Series(simulated_spy_prices)\n",
    "    \n",
    "    simulated_daily_returns = simulated_price_df.pct_change()\n",
    "    \n",
    "    weights = [0.4, 0.6]\n",
    "    portfolio_daily_returns = simulated_daily_returns.dot(weights)\n",
    "    \n",
    "    portfolio_cumulative_returns[n] = (1 + portfolio_daily_returns.fillna(0)).cumprod()"
   ]
  },
  {
   "cell_type": "code",
   "execution_count": 35,
   "metadata": {
    "scrolled": true
   },
   "outputs": [
    {
     "data": {
      "text/html": [
       "<div>\n",
       "<style scoped>\n",
       "    .dataframe tbody tr th:only-of-type {\n",
       "        vertical-align: middle;\n",
       "    }\n",
       "\n",
       "    .dataframe tbody tr th {\n",
       "        vertical-align: top;\n",
       "    }\n",
       "\n",
       "    .dataframe thead th {\n",
       "        text-align: right;\n",
       "    }\n",
       "</style>\n",
       "<table border=\"1\" class=\"dataframe\">\n",
       "  <thead>\n",
       "    <tr style=\"text-align: right;\">\n",
       "      <th></th>\n",
       "      <th>0</th>\n",
       "      <th>1</th>\n",
       "      <th>2</th>\n",
       "      <th>3</th>\n",
       "      <th>4</th>\n",
       "      <th>5</th>\n",
       "      <th>6</th>\n",
       "      <th>7</th>\n",
       "      <th>8</th>\n",
       "      <th>9</th>\n",
       "      <th>...</th>\n",
       "      <th>490</th>\n",
       "      <th>491</th>\n",
       "      <th>492</th>\n",
       "      <th>493</th>\n",
       "      <th>494</th>\n",
       "      <th>495</th>\n",
       "      <th>496</th>\n",
       "      <th>497</th>\n",
       "      <th>498</th>\n",
       "      <th>499</th>\n",
       "    </tr>\n",
       "  </thead>\n",
       "  <tbody>\n",
       "    <tr>\n",
       "      <th>0</th>\n",
       "      <td>1.000000</td>\n",
       "      <td>1.000000</td>\n",
       "      <td>1.000000</td>\n",
       "      <td>1.000000</td>\n",
       "      <td>1.000000</td>\n",
       "      <td>1.000000</td>\n",
       "      <td>1.000000</td>\n",
       "      <td>1.000000</td>\n",
       "      <td>1.000000</td>\n",
       "      <td>1.000000</td>\n",
       "      <td>...</td>\n",
       "      <td>1.000000</td>\n",
       "      <td>1.000000</td>\n",
       "      <td>1.000000</td>\n",
       "      <td>1.000000</td>\n",
       "      <td>1.000000</td>\n",
       "      <td>1.000000</td>\n",
       "      <td>1.000000</td>\n",
       "      <td>1.000000</td>\n",
       "      <td>1.000000</td>\n",
       "      <td>1.000000</td>\n",
       "    </tr>\n",
       "    <tr>\n",
       "      <th>1</th>\n",
       "      <td>0.998489</td>\n",
       "      <td>1.006279</td>\n",
       "      <td>0.991991</td>\n",
       "      <td>0.993075</td>\n",
       "      <td>1.003806</td>\n",
       "      <td>1.002939</td>\n",
       "      <td>1.008633</td>\n",
       "      <td>0.996375</td>\n",
       "      <td>1.000870</td>\n",
       "      <td>1.002126</td>\n",
       "      <td>...</td>\n",
       "      <td>1.010246</td>\n",
       "      <td>0.993545</td>\n",
       "      <td>0.998560</td>\n",
       "      <td>0.998447</td>\n",
       "      <td>1.002111</td>\n",
       "      <td>0.995760</td>\n",
       "      <td>1.008200</td>\n",
       "      <td>1.005168</td>\n",
       "      <td>1.003183</td>\n",
       "      <td>1.000118</td>\n",
       "    </tr>\n",
       "    <tr>\n",
       "      <th>2</th>\n",
       "      <td>1.001142</td>\n",
       "      <td>1.012315</td>\n",
       "      <td>0.995476</td>\n",
       "      <td>0.993335</td>\n",
       "      <td>1.000890</td>\n",
       "      <td>1.008339</td>\n",
       "      <td>1.001413</td>\n",
       "      <td>0.993561</td>\n",
       "      <td>1.003352</td>\n",
       "      <td>0.996241</td>\n",
       "      <td>...</td>\n",
       "      <td>1.011327</td>\n",
       "      <td>0.996170</td>\n",
       "      <td>0.987976</td>\n",
       "      <td>1.000213</td>\n",
       "      <td>1.000351</td>\n",
       "      <td>0.988121</td>\n",
       "      <td>1.006258</td>\n",
       "      <td>1.015231</td>\n",
       "      <td>1.011431</td>\n",
       "      <td>1.000105</td>\n",
       "    </tr>\n",
       "    <tr>\n",
       "      <th>3</th>\n",
       "      <td>1.000886</td>\n",
       "      <td>1.005057</td>\n",
       "      <td>0.991404</td>\n",
       "      <td>0.997839</td>\n",
       "      <td>1.004635</td>\n",
       "      <td>1.009627</td>\n",
       "      <td>1.005148</td>\n",
       "      <td>0.992702</td>\n",
       "      <td>1.004731</td>\n",
       "      <td>1.001562</td>\n",
       "      <td>...</td>\n",
       "      <td>1.008137</td>\n",
       "      <td>0.996146</td>\n",
       "      <td>0.988678</td>\n",
       "      <td>1.004051</td>\n",
       "      <td>1.006098</td>\n",
       "      <td>0.986341</td>\n",
       "      <td>1.009924</td>\n",
       "      <td>1.020764</td>\n",
       "      <td>1.013749</td>\n",
       "      <td>1.009678</td>\n",
       "    </tr>\n",
       "    <tr>\n",
       "      <th>4</th>\n",
       "      <td>1.005646</td>\n",
       "      <td>1.008703</td>\n",
       "      <td>0.991230</td>\n",
       "      <td>1.004617</td>\n",
       "      <td>1.006201</td>\n",
       "      <td>1.001876</td>\n",
       "      <td>1.005367</td>\n",
       "      <td>0.993625</td>\n",
       "      <td>1.014296</td>\n",
       "      <td>1.002179</td>\n",
       "      <td>...</td>\n",
       "      <td>1.006612</td>\n",
       "      <td>1.003730</td>\n",
       "      <td>0.993884</td>\n",
       "      <td>0.994669</td>\n",
       "      <td>1.005642</td>\n",
       "      <td>0.988297</td>\n",
       "      <td>1.011136</td>\n",
       "      <td>1.017644</td>\n",
       "      <td>1.012717</td>\n",
       "      <td>1.008094</td>\n",
       "    </tr>\n",
       "    <tr>\n",
       "      <th>...</th>\n",
       "      <td>...</td>\n",
       "      <td>...</td>\n",
       "      <td>...</td>\n",
       "      <td>...</td>\n",
       "      <td>...</td>\n",
       "      <td>...</td>\n",
       "      <td>...</td>\n",
       "      <td>...</td>\n",
       "      <td>...</td>\n",
       "      <td>...</td>\n",
       "      <td>...</td>\n",
       "      <td>...</td>\n",
       "      <td>...</td>\n",
       "      <td>...</td>\n",
       "      <td>...</td>\n",
       "      <td>...</td>\n",
       "      <td>...</td>\n",
       "      <td>...</td>\n",
       "      <td>...</td>\n",
       "      <td>...</td>\n",
       "      <td>...</td>\n",
       "    </tr>\n",
       "    <tr>\n",
       "      <th>7556</th>\n",
       "      <td>124.556173</td>\n",
       "      <td>242.451344</td>\n",
       "      <td>471.561703</td>\n",
       "      <td>167.405598</td>\n",
       "      <td>261.713573</td>\n",
       "      <td>155.605310</td>\n",
       "      <td>164.972191</td>\n",
       "      <td>292.574237</td>\n",
       "      <td>265.368753</td>\n",
       "      <td>296.145594</td>\n",
       "      <td>...</td>\n",
       "      <td>220.745231</td>\n",
       "      <td>185.248613</td>\n",
       "      <td>215.742243</td>\n",
       "      <td>171.322223</td>\n",
       "      <td>79.436759</td>\n",
       "      <td>219.813558</td>\n",
       "      <td>181.361579</td>\n",
       "      <td>149.518162</td>\n",
       "      <td>412.485734</td>\n",
       "      <td>99.452269</td>\n",
       "    </tr>\n",
       "    <tr>\n",
       "      <th>7557</th>\n",
       "      <td>124.000858</td>\n",
       "      <td>243.074835</td>\n",
       "      <td>470.418103</td>\n",
       "      <td>167.378083</td>\n",
       "      <td>261.113067</td>\n",
       "      <td>156.834177</td>\n",
       "      <td>164.684769</td>\n",
       "      <td>294.892245</td>\n",
       "      <td>266.188786</td>\n",
       "      <td>296.659390</td>\n",
       "      <td>...</td>\n",
       "      <td>219.904132</td>\n",
       "      <td>184.865941</td>\n",
       "      <td>215.652644</td>\n",
       "      <td>172.263338</td>\n",
       "      <td>79.637748</td>\n",
       "      <td>220.028001</td>\n",
       "      <td>180.099301</td>\n",
       "      <td>149.676240</td>\n",
       "      <td>411.164184</td>\n",
       "      <td>99.427950</td>\n",
       "    </tr>\n",
       "    <tr>\n",
       "      <th>7558</th>\n",
       "      <td>124.523071</td>\n",
       "      <td>244.276949</td>\n",
       "      <td>463.900760</td>\n",
       "      <td>166.408897</td>\n",
       "      <td>262.741458</td>\n",
       "      <td>156.182477</td>\n",
       "      <td>165.835403</td>\n",
       "      <td>297.179379</td>\n",
       "      <td>267.448434</td>\n",
       "      <td>294.377955</td>\n",
       "      <td>...</td>\n",
       "      <td>218.426618</td>\n",
       "      <td>185.127870</td>\n",
       "      <td>214.747544</td>\n",
       "      <td>173.234289</td>\n",
       "      <td>79.584646</td>\n",
       "      <td>219.802044</td>\n",
       "      <td>181.275280</td>\n",
       "      <td>149.714964</td>\n",
       "      <td>410.269302</td>\n",
       "      <td>99.567905</td>\n",
       "    </tr>\n",
       "    <tr>\n",
       "      <th>7559</th>\n",
       "      <td>124.249822</td>\n",
       "      <td>244.554797</td>\n",
       "      <td>458.914854</td>\n",
       "      <td>165.725559</td>\n",
       "      <td>262.337103</td>\n",
       "      <td>155.198578</td>\n",
       "      <td>167.006457</td>\n",
       "      <td>294.668826</td>\n",
       "      <td>268.570579</td>\n",
       "      <td>294.028034</td>\n",
       "      <td>...</td>\n",
       "      <td>218.041783</td>\n",
       "      <td>184.402907</td>\n",
       "      <td>215.297645</td>\n",
       "      <td>172.445101</td>\n",
       "      <td>79.765491</td>\n",
       "      <td>220.569491</td>\n",
       "      <td>180.351464</td>\n",
       "      <td>149.666324</td>\n",
       "      <td>404.838527</td>\n",
       "      <td>99.485377</td>\n",
       "    </tr>\n",
       "    <tr>\n",
       "      <th>7560</th>\n",
       "      <td>125.070198</td>\n",
       "      <td>244.481378</td>\n",
       "      <td>458.499159</td>\n",
       "      <td>165.723957</td>\n",
       "      <td>262.228696</td>\n",
       "      <td>155.141811</td>\n",
       "      <td>167.422662</td>\n",
       "      <td>295.652741</td>\n",
       "      <td>267.300685</td>\n",
       "      <td>291.458175</td>\n",
       "      <td>...</td>\n",
       "      <td>219.406302</td>\n",
       "      <td>184.703796</td>\n",
       "      <td>215.066218</td>\n",
       "      <td>172.979444</td>\n",
       "      <td>80.046871</td>\n",
       "      <td>219.638672</td>\n",
       "      <td>180.633829</td>\n",
       "      <td>151.139604</td>\n",
       "      <td>407.716521</td>\n",
       "      <td>99.964030</td>\n",
       "    </tr>\n",
       "  </tbody>\n",
       "</table>\n",
       "<p>7561 rows × 500 columns</p>\n",
       "</div>"
      ],
      "text/plain": [
       "             0           1           2           3           4           5    \\\n",
       "0       1.000000    1.000000    1.000000    1.000000    1.000000    1.000000   \n",
       "1       0.998489    1.006279    0.991991    0.993075    1.003806    1.002939   \n",
       "2       1.001142    1.012315    0.995476    0.993335    1.000890    1.008339   \n",
       "3       1.000886    1.005057    0.991404    0.997839    1.004635    1.009627   \n",
       "4       1.005646    1.008703    0.991230    1.004617    1.006201    1.001876   \n",
       "...          ...         ...         ...         ...         ...         ...   \n",
       "7556  124.556173  242.451344  471.561703  167.405598  261.713573  155.605310   \n",
       "7557  124.000858  243.074835  470.418103  167.378083  261.113067  156.834177   \n",
       "7558  124.523071  244.276949  463.900760  166.408897  262.741458  156.182477   \n",
       "7559  124.249822  244.554797  458.914854  165.725559  262.337103  155.198578   \n",
       "7560  125.070198  244.481378  458.499159  165.723957  262.228696  155.141811   \n",
       "\n",
       "             6           7           8           9    ...         490  \\\n",
       "0       1.000000    1.000000    1.000000    1.000000  ...    1.000000   \n",
       "1       1.008633    0.996375    1.000870    1.002126  ...    1.010246   \n",
       "2       1.001413    0.993561    1.003352    0.996241  ...    1.011327   \n",
       "3       1.005148    0.992702    1.004731    1.001562  ...    1.008137   \n",
       "4       1.005367    0.993625    1.014296    1.002179  ...    1.006612   \n",
       "...          ...         ...         ...         ...  ...         ...   \n",
       "7556  164.972191  292.574237  265.368753  296.145594  ...  220.745231   \n",
       "7557  164.684769  294.892245  266.188786  296.659390  ...  219.904132   \n",
       "7558  165.835403  297.179379  267.448434  294.377955  ...  218.426618   \n",
       "7559  167.006457  294.668826  268.570579  294.028034  ...  218.041783   \n",
       "7560  167.422662  295.652741  267.300685  291.458175  ...  219.406302   \n",
       "\n",
       "             491         492         493        494         495         496  \\\n",
       "0       1.000000    1.000000    1.000000   1.000000    1.000000    1.000000   \n",
       "1       0.993545    0.998560    0.998447   1.002111    0.995760    1.008200   \n",
       "2       0.996170    0.987976    1.000213   1.000351    0.988121    1.006258   \n",
       "3       0.996146    0.988678    1.004051   1.006098    0.986341    1.009924   \n",
       "4       1.003730    0.993884    0.994669   1.005642    0.988297    1.011136   \n",
       "...          ...         ...         ...        ...         ...         ...   \n",
       "7556  185.248613  215.742243  171.322223  79.436759  219.813558  181.361579   \n",
       "7557  184.865941  215.652644  172.263338  79.637748  220.028001  180.099301   \n",
       "7558  185.127870  214.747544  173.234289  79.584646  219.802044  181.275280   \n",
       "7559  184.402907  215.297645  172.445101  79.765491  220.569491  180.351464   \n",
       "7560  184.703796  215.066218  172.979444  80.046871  219.638672  180.633829   \n",
       "\n",
       "             497         498        499  \n",
       "0       1.000000    1.000000   1.000000  \n",
       "1       1.005168    1.003183   1.000118  \n",
       "2       1.015231    1.011431   1.000105  \n",
       "3       1.020764    1.013749   1.009678  \n",
       "4       1.017644    1.012717   1.008094  \n",
       "...          ...         ...        ...  \n",
       "7556  149.518162  412.485734  99.452269  \n",
       "7557  149.676240  411.164184  99.427950  \n",
       "7558  149.714964  410.269302  99.567905  \n",
       "7559  149.666324  404.838527  99.485377  \n",
       "7560  151.139604  407.716521  99.964030  \n",
       "\n",
       "[7561 rows x 500 columns]"
      ]
     },
     "execution_count": 35,
     "metadata": {},
     "output_type": "execute_result"
    }
   ],
   "source": [
    "# Check that the simulation ran successfully\n",
    "portfolio_cumulative_returns"
   ]
  },
  {
   "cell_type": "code",
   "execution_count": 36,
   "metadata": {},
   "outputs": [
    {
     "data": {
      "text/plain": [
       "<matplotlib.axes._subplots.AxesSubplot at 0x23101804388>"
      ]
     },
     "execution_count": 36,
     "metadata": {},
     "output_type": "execute_result"
    },
    {
     "data": {
      "image/png": "[encoded data removed]",
      "text/plain": [
       "<Figure size 432x288 with 1 Axes>"
      ]
     },
     "metadata": {
      "needs_background": "light"
     },
     "output_type": "display_data"
    }
   ],
   "source": [
    "# Visualize the Simulation\n",
    "plot_title = 'Simulated Retirement Portfolio'\n",
    "portfolio_cumulative_returns.plot(legend=None, title=plot_title)"
   ]
  },
  {
   "cell_type": "code",
   "execution_count": 41,
   "metadata": {},
   "outputs": [
    {
     "name": "stdout",
     "output_type": "stream",
     "text": [
      "0      28.206485\n",
      "1      40.764040\n",
      "2      70.690458\n",
      "3      22.211929\n",
      "4      57.188785\n",
      "         ...    \n",
      "495    38.064279\n",
      "496    32.021700\n",
      "497    28.166845\n",
      "498    70.611827\n",
      "499    21.420283\n",
      "Name: 5040, Length: 500, dtype: float64\n"
     ]
    }
   ],
   "source": [
    "# Select the last row for the cumulative returns (cumulative returns at 20 years)\n",
    "last_price_yr20 = portfolio_cumulative_returns.iloc[5040]\n",
    "print(last_price_yr20)"
   ]
  },
  {
   "cell_type": "code",
   "execution_count": 40,
   "metadata": {},
   "outputs": [
    {
     "name": "stdout",
     "output_type": "stream",
     "text": [
      "0      125.070198\n",
      "1      244.481378\n",
      "2      458.499159\n",
      "3      165.723957\n",
      "4      262.228696\n",
      "          ...    \n",
      "495    219.638672\n",
      "496    180.633829\n",
      "497    151.139604\n",
      "498    407.716521\n",
      "499     99.964030\n",
      "Name: 7560, Length: 500, dtype: float64\n"
     ]
    }
   ],
   "source": [
    "# Select the last row for the cumulative returns (cumulative returns at 30 years)\n",
    "last_price_yr30 = portfolio_cumulative_returns.iloc[-1,:]\n",
    "print(last_price_yr30)"
   ]
  },
  {
   "cell_type": "code",
   "execution_count": 44,
   "metadata": {},
   "outputs": [
    {
     "data": {
      "text/plain": [
       "0.01     75.218493\n",
       "0.90    330.955731\n",
       "Name: 7560, dtype: float64"
      ]
     },
     "execution_count": 44,
     "metadata": {},
     "output_type": "execute_result"
    }
   ],
   "source": [
    "# Display the 90% confidence interval for the ending returns\n",
    "confidence_interval = last_price_yr30.quantile(q=[0.01, 0.9])\n",
    "confidence_interval"
   ]
  },
  {
   "cell_type": "code",
   "execution_count": 45,
   "metadata": {},
   "outputs": [
    {
     "data": {
      "text/plain": [
       "<matplotlib.lines.Line2D at 0x2310ea12288>"
      ]
     },
     "execution_count": 45,
     "metadata": {},
     "output_type": "execute_result"
    },
    {
     "data": {
      "image/png": "[encoded data removed]",
      "text/plain": [
       "<Figure size 432x288 with 1 Axes>"
      ]
     },
     "metadata": {
      "needs_background": "light"
     },
     "output_type": "display_data"
    }
   ],
   "source": [
    "# Visualize the distribution of the ending returns\n",
    "plt.figure();\n",
    "last_price_yr30.plot(kind='hist', density=True)\n",
    "plt.axvline(confidence_interval.iloc[0], color='r')\n",
    "plt.axvline(confidence_interval.iloc[1], color='r')"
   ]
  },
  {
   "cell_type": "markdown",
   "metadata": {},
   "source": [
    "---"
   ]
  },
  {
   "cell_type": "markdown",
   "metadata": {},
   "source": [
    "## Retirement Analysis\n",
    "\n",
    "In this section, you will use the monte carlo model to answer the following retirement planning questions:\n",
    "\n",
    "1. What are the expected cumulative returns at `30` years for the `10th`, `50th`, and `90th` percentiles?\n",
    "\n",
    "2. Given an initial investment of `$20,000`, what is the expected return in dollars at the `10th`, `50th`, and `90th` percentiles?\n",
    "\n",
    "3. Given the current projected annual income from the Plaid analysis, will a `4%` withdrawal rate meet or exceed that value at the `10th` percentile? Note: This is basically determining if retirement income is equivalent to current income.\n",
    "\n",
    "4. How would a `50%` increase in the initial investment amount affect the `4%` retirement withdrawal? In other words, what happens if the initial investment had been bigger?"
   ]
  },
  {
   "cell_type": "markdown",
   "metadata": {},
   "source": [
    "### What are the expected cumulative returns at 30 years for the 10th, 50th, and 90th percentiles?"
   ]
  },
  {
   "cell_type": "code",
   "execution_count": 46,
   "metadata": {},
   "outputs": [
    {
     "data": {
      "text/plain": [
       "0.01     75.218493\n",
       "0.50    186.888526\n",
       "0.90    330.955731\n",
       "Name: 7560, dtype: float64"
      ]
     },
     "execution_count": 46,
     "metadata": {},
     "output_type": "execute_result"
    }
   ],
   "source": [
    "# Compute cumulative returns\n",
    "confidence_interval = last_price_yr30.quantile(q=[0.01, .5, 0.9])\n",
    "confidence_interval"
   ]
  },
  {
   "cell_type": "markdown",
   "metadata": {},
   "source": [
    "### Given an initial investment of `$20,000`, what is the expected portfolio return in dollars at the 10th, 50th, and 90th percentiles?"
   ]
  },
  {
   "cell_type": "code",
   "execution_count": 54,
   "metadata": {},
   "outputs": [
    {
     "name": "stdout",
     "output_type": "stream",
     "text": [
      "10th percentile: $1504369.86\n",
      "50th percentile: $3737770.52\n",
      "90th percentile: $6619114.61\n"
     ]
    }
   ],
   "source": [
    "# Set initial investment\n",
    "investment_amount = 20000\n",
    "\n",
    "# Compute expected portfolio return\n",
    "investment_pnl_10_bound = investment_amount * confidence_interval.iloc[0]\n",
    "investment_pnl_50_bound = investment_amount * confidence_interval.iloc[1]\n",
    "investment_pnl_90_bound = investment_amount * confidence_interval.iloc[2]\n",
    "investment_pnl_10_bound = str(round(investment_pnl_10_bound, 2))\n",
    "investment_pnl_50_bound = str(round(investment_pnl_50_bound, 2))\n",
    "investment_pnl_90_bound = str(round(investment_pnl_90_bound, 2))\n",
    "print(f'10th percentile: ${investment_pnl_10_bound}')\n",
    "print(f'50th percentile: ${investment_pnl_50_bound}')\n",
    "print(f'90th percentile: ${investment_pnl_90_bound}')"
   ]
  },
  {
   "cell_type": "markdown",
   "metadata": {},
   "source": [
    "### Given the current projected annual income from the Plaid analysis, will a 4% withdraw rate from the retirement portfolio meet or exceed that value at the 10th percentile?\n",
    "\n",
    "Note: This is effectively saying that 90% of the expected returns will be greater than the return at the 10th percentile, so this can help measure the uncertainty about having enough funds at retirement"
   ]
  },
  {
   "cell_type": "code",
   "execution_count": null,
   "metadata": {},
   "outputs": [],
   "source": [
    "# Set Plaid's projected income\n",
    "\n",
    "# Calculate the 4% withdrawal for the ending return as retirement income\n",
    "\n",
    "# Determine if the retirement income meets or exceeds the current projected income\n"
   ]
  },
  {
   "cell_type": "markdown",
   "metadata": {},
   "source": [
    "### How would a 50% increase in the initial investment amount affect the 4% retirement withdrawal?"
   ]
  },
  {
   "cell_type": "code",
   "execution_count": null,
   "metadata": {},
   "outputs": [],
   "source": [
    "# Re-calculate the retirement income with a 50% increase in the initial investment amount\n"
   ]
  },
  {
   "cell_type": "markdown",
   "metadata": {},
   "source": [
    "### Optional Challenge\n",
    "\n",
    "Use the Monte Carlo data and calculate the cumulative returns at the `5%`, `50%`, and `95%` quartiles and plot this data as a line chart to see how the cumulative returns change over the life of the investment.\n",
    "\n",
    "In this section, you need to calculate and plot the cumulative returns for the median and `90%` confidence intervals. This plot shows the expected cumulative returns for any given day between the first day and the last day of investment. "
   ]
  },
  {
   "cell_type": "code",
   "execution_count": null,
   "metadata": {},
   "outputs": [],
   "source": [
    "# Compute projected returns\n",
    "\n",
    "# Display sample data\n"
   ]
  },
  {
   "cell_type": "code",
   "execution_count": null,
   "metadata": {},
   "outputs": [],
   "source": [
    "# Plot the cumulative returns over time\n"
   ]
  },
  {
   "cell_type": "code",
   "execution_count": null,
   "metadata": {},
   "outputs": [],
   "source": [
    "# Compute portfolio performance over time\n",
    "\n",
    "# Plot projected performance over time\n"
   ]
  }
 ],
 "metadata": {
  "kernelspec": {
   "display_name": "Python 3",
   "language": "python",
   "name": "python3"
  },
  "language_info": {
   "codemirror_mode": {
    "name": "ipython",
    "version": 3
   },
   "file_extension": ".py",
   "mimetype": "text/x-python",
   "name": "python",
   "nbconvert_exporter": "python",
   "pygments_lexer": "ipython3",
   "version": "3.7.6"
  }
 },
 "nbformat": 4,
 "nbformat_minor": 4
}
